{
 "cells": [
  {
   "cell_type": "markdown",
   "metadata": {},
   "source": [
    "# We will be investigating data types in this lesson\n",
    "\n",
    "### The most important learnings from this lesson are 1) how to parse data in CSV files 2) how to read and manipulate Excel files in python 3) how to explore data in JSON files"
   ]
  },
  {
   "cell_type": "markdown",
   "metadata": {},
   "source": [
    "## We can write function rules to write this CSV into a dictionary, however, there is a module named CSV that can be used to quicken this step."
   ]
  },
  {
   "cell_type": "code",
   "execution_count": 1,
   "metadata": {
    "collapsed": true
   },
   "outputs": [],
   "source": [
    "import numpy as np\n",
    "import pandas as pd\n",
    "import os\n",
    "import pprint\n",
    "import csv"
   ]
  },
  {
   "cell_type": "markdown",
   "metadata": {},
   "source": [
    "## Beatles Discography is our dataset"
   ]
  },
  {
   "cell_type": "code",
   "execution_count": 2,
   "metadata": {
    "collapsed": true
   },
   "outputs": [],
   "source": [
    "DATADIR = \"\"\n",
    "DATAFILE = '/Users/marcmaybaum/Desktop/Education/Udacity/Data_Analyst_Nanodegree/Project_3/beatles-diskography.csv'"
   ]
  },
  {
   "cell_type": "markdown",
   "metadata": {},
   "source": [
    "### DictReader is a class of the CSV module that is able to read all our data and place into a dictionary. It assumes the first row is a header row and that we want to use those column names for our fields in our dictionary. It deals with quote characters, blank values, and other data issues that we would have to deal with without the CSV module."
   ]
  },
  {
   "cell_type": "code",
   "execution_count": 4,
   "metadata": {
    "collapsed": false
   },
   "outputs": [],
   "source": [
    "def parse_csv(datafile):\n",
    "    data=[]\n",
    "    n=0\n",
    "    with open(datafile,'rb') as sd:\n",
    "        r=csv.DictReader(sd)\n",
    "        # line in this case is each dictionary\n",
    "        for line in r:\n",
    "            data.append(line)\n",
    "            return data\n",
    "        \n",
    "# if _name_ == '_main_':\n",
    "#     datafile = os.path.join(DATADIR, DATAFILE)\n",
    "#     parse_csv(datafile)\n",
    "#     d = parse_csv(datafile)\n",
    "#     pprint.pprint(d)"
   ]
  },
  {
   "cell_type": "markdown",
   "metadata": {},
   "source": [
    "## Best practice when using CSVs is to use the CSV module since so many capabilities have been built out for it"
   ]
  },
  {
   "cell_type": "markdown",
   "metadata": {},
   "source": [
    "## Now we look at how to programmatically read Excel files. The module is called XLRD and allows us to use .xls or .xlxs format"
   ]
  },
  {
   "cell_type": "code",
   "execution_count": null,
   "metadata": {
    "collapsed": true
   },
   "outputs": [],
   "source": [
    "import xlrd"
   ]
  },
  {
   "cell_type": "code",
   "execution_count": null,
   "metadata": {
    "collapsed": true
   },
   "outputs": [],
   "source": [
    "datafile = '/Users/marcmaybaum/Desktop/Education/Udacity/Data_Analyst_Nanodegree/Project_3/2013_ERCOT_Hourly_Load_Data.xls'"
   ]
  },
  {
   "cell_type": "code",
   "execution_count": 5,
   "metadata": {
    "collapsed": false
   },
   "outputs": [
    {
     "ename": "SyntaxError",
     "evalue": "invalid syntax (<ipython-input-5-ecf5bc266bc7>, line 3)",
     "output_type": "error",
     "traceback": [
      "\u001b[0;36m  File \u001b[0;32m\"<ipython-input-5-ecf5bc266bc7>\"\u001b[0;36m, line \u001b[0;32m3\u001b[0m\n\u001b[0;31m    sheet = workbook.sheet_by)index(0)\u001b[0m\n\u001b[0m                             ^\u001b[0m\n\u001b[0;31mSyntaxError\u001b[0m\u001b[0;31m:\u001b[0m invalid syntax\n"
     ]
    }
   ],
   "source": [
    "# Parse_file function will be most helpful for Excel files\n",
    "def parse_file(datafile):\n",
    "# Command that we use to open the notebook is .open_notebook()\n",
    "    workbook = xlrd.open_workbook(datafile)\n",
    "# We need to specify which sheet to use (sheet_by_index() command)    \n",
    "    sheet = workbook.sheet_by_index(0)\n",
    "\n",
    "# We are looping through rows and columns and placing it in a python list\n",
    "    data = [[sheet.cell_value(r, col)\n",
    "                for col in range(sheet.ncols)]\n",
    "                    for r in range(sheet.nrows)]\n",
    "    \n",
    "# Printing out row 3, column 2 in this list    \n",
    "    print (\"\\nList Comprehension\")\n",
    "    print (\"data[3][2]:\")\n",
    "    print data[3][2]\n",
    "\n",
    "# Following the list comprehension, we are reading the list to row 50\n",
    "# This illustrates the functions of the list and reading an excel file\n",
    "    print \"\\nCells in a nested loop:\"\n",
    "    for row in range(sheet.nrows):\n",
    "        for col in range(sheet.ncols):\n",
    "            if row == 50:\n",
    "                print sheet.cell_value(row,col),"
   ]
  },
  {
   "cell_type": "code",
   "execution_count": null,
   "metadata": {
    "collapsed": true
   },
   "outputs": [],
   "source": [
    "### other useful methods outlined to understand xlrd\n",
    "print (\"\\nROWS, COLUMNS, and CELLS:\")\n",
    "print (\"Number of rows in the sheet:\"),\n",
    "print (sheet.nrows)\n",
    "print (\"Tyoe of data in cell (row 3, col 2)\"),\n",
    "print sheet.cell_type(3,2)\n",
    "print \"Value in cell (row 3, col 2):\",\n",
    "print sheet.cell_value(3,2)\n",
    "print \"Get a slice of values in column 3, from rows 1-3:\"\n",
    "print sheet.col_values(3, start_rowx=1, end_rowx=4)\n",
    "\n",
    "print \"\\nDATES:\"\n",
    "print \"Type of data in cell (row 1, col 0):\"\n",
    "print sheet.cell_type(1,0)\n",
    "exceltime = sheet.cell_value(1,0)\n",
    "print \"Time in Excel format:\",\n",
    "print exceltime\n",
    "print \"Convert time to a Pyuthon datetime tuple, from the Excel float:\",\n",
    "print xlrd.xldate_as_tuple(exceltime, 0)\n",
    "\n",
    "# Working with date data as a tuple allows python to understand it as date data"
   ]
  },
  {
   "cell_type": "markdown",
   "metadata": {},
   "source": [
    "### Exercise to pull out data from the Excel dataset"
   ]
  },
  {
   "cell_type": "code",
   "execution_count": null,
   "metadata": {
    "collapsed": true
   },
   "outputs": [],
   "source": [
    "# \n",
    "\n",
    "data = {\n",
    "    'maxtime': (0,0,0,0,0,0),\n",
    "    'maxvalue': 0,\n",
    "    'mintime': (0,0,0,0,0,0),\n",
    "    'minvalue': 0,\n",
    "    'avgcoast': 0\n",
    "}\n",
    "return data"
   ]
  }
 ],
 "metadata": {
  "kernelspec": {
   "display_name": "Python 3",
   "language": "python",
   "name": "python3"
  },
  "language_info": {
   "codemirror_mode": {
    "name": "ipython",
    "version": 3
   },
   "file_extension": ".py",
   "mimetype": "text/x-python",
   "name": "python",
   "nbconvert_exporter": "python",
   "pygments_lexer": "ipython3",
   "version": "3.6.0"
  }
 },
 "nbformat": 4,
 "nbformat_minor": 2
}
