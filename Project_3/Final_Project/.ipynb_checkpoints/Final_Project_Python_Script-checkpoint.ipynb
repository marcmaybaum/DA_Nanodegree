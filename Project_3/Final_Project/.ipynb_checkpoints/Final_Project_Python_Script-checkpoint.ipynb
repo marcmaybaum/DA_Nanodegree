{
 "cells": [
  {
   "cell_type": "markdown",
   "metadata": {},
   "source": [
    "## Example final report to model this script off of\n",
    "\n",
    "https://gist.github.com/carlward/54ec1c91b62a5f911c42#file-sample_project-md"
   ]
  },
  {
   "cell_type": "code",
   "execution_count": 1,
   "metadata": {
    "collapsed": false
   },
   "outputs": [
    {
     "name": "stdout",
     "output_type": "stream",
     "text": [
      "<xml.etree.ElementTree.ElementTree object at 0x1119e36a0>\n",
      "<Element 'osm' at 0x1119bf7c8>\n"
     ]
    }
   ],
   "source": [
    "import csv\n",
    "import codecs\n",
    "import pprint\n",
    "import re\n",
    "import xml.etree.cElementTree as ET\n",
    "\n",
    "filename = ('example.osm')\n",
    "\n",
    "tree = ET.parse(filename)\n",
    "print(tree)\n",
    "root = tree.getroot()\n",
    "print(root)"
   ]
  },
  {
   "cell_type": "code",
   "execution_count": 2,
   "metadata": {
    "collapsed": false
   },
   "outputs": [
    {
     "name": "stdout",
     "output_type": "stream",
     "text": [
      "{'bounds': 1,\n",
      " 'member': 3,\n",
      " 'nd': 11,\n",
      " 'node': 23,\n",
      " 'osm': 1,\n",
      " 'relation': 1,\n",
      " 'tag': 42,\n",
      " 'way': 2}\n"
     ]
    }
   ],
   "source": [
    "def count_tags(filename):\n",
    "    list = []\n",
    "    dict = {}\n",
    "    for event, elem in ET.iterparse(filename):\n",
    "        list.append(elem.tag)\n",
    "    for e in list:\n",
    "        if e in dict:\n",
    "            dict[e] += 1\n",
    "        else:\n",
    "            dict[e] = 1\n",
    "    return dict\n",
    "\n",
    "tags = count_tags(filename)\n",
    "pprint.pprint(tags)"
   ]
  },
  {
   "cell_type": "markdown",
   "metadata": {},
   "source": [
    "## Tag Type Audit"
   ]
  },
  {
   "cell_type": "code",
   "execution_count": 3,
   "metadata": {
    "collapsed": false
   },
   "outputs": [
    {
     "name": "stdout",
     "output_type": "stream",
     "text": [
      "{'lower': 21, 'lower_colon': 18, 'other': 3, 'problemchars': 0}\n"
     ]
    }
   ],
   "source": [
    "lower = re.compile(r'^([a-z]|_)*$')\n",
    "lower_colon = re.compile(r'^([a-z]|_)*:([a-z]|_)*$')\n",
    "problemchars = re.compile(r'[=\\+/&<>;\\'\"\\?%#$@\\,\\. \\t\\r\\n]')\n",
    "\n",
    "def key_type(element, keys):\n",
    "    if element.tag == \"tag\":\n",
    "        # print element.attrib[\"k\"]\n",
    "        k = element.attrib['k']\n",
    "        if lower.match(k):\n",
    "            keys['lower'] += 1\n",
    "        elif lower_colon.match(k): \n",
    "            keys['lower_colon'] += 1\n",
    "        elif problemchars.match(k):\n",
    "            keys['problemchars'] += 1\n",
    "        else: \n",
    "            keys['other'] += 1\n",
    "    return keys\n",
    "\n",
    "def process_map(filename):\n",
    "    keys = {\"lower\": 0, \"lower_colon\": 0, \"problemchars\": 0, \"other\": 0}\n",
    "    for event, element in ET.iterparse(filename):\n",
    "        keys = key_type(element, keys)\n",
    "    return keys\n",
    "\n",
    "pprint.pprint(process_map(filename))\n"
   ]
  },
  {
   "cell_type": "markdown",
   "metadata": {},
   "source": [
    "## Unique User Audit"
   ]
  },
  {
   "cell_type": "code",
   "execution_count": 4,
   "metadata": {
    "collapsed": false
   },
   "outputs": [
    {
     "name": "stdout",
     "output_type": "stream",
     "text": [
      "{'451048', '939355', '26299', '674454', '1219059', '634589', '567034', '147510'}\n"
     ]
    }
   ],
   "source": [
    "def get_user(element):\n",
    "    if element.get('uid'):\n",
    "        return element.get('uid')\n",
    "\n",
    "def process_map(filename):\n",
    "    users = set()\n",
    "    for _, element in ET.iterparse(filename):\n",
    "        if get_user(element):\n",
    "            users.add(get_user(element))\n",
    "    return users\n",
    "\n",
    "pprint.pprint(process_map(filename))"
   ]
  },
  {
   "cell_type": "markdown",
   "metadata": {},
   "source": [
    "## Improving street names"
   ]
  },
  {
   "cell_type": "code",
   "execution_count": 5,
   "metadata": {
    "collapsed": false
   },
   "outputs": [
    {
     "name": "stdout",
     "output_type": "stream",
     "text": [
      "{'Ave': {'North Lincoln Ave', 'N. Lincoln Ave'},\n",
      " 'Rd.': {'Baldwin Rd.'},\n",
      " 'St.': {'West Lexington St.'}}\n"
     ]
    }
   ],
   "source": [
    "from collections import defaultdict\n",
    "\n",
    "street_type_re = re.compile(r'\\b\\S+\\.?$', re.IGNORECASE)\n",
    "\n",
    "\n",
    "expected = [\"Street\", \"Avenue\", \"Boulevard\", \"Drive\", \"Court\", \"Place\", \"Square\", \"Lane\", \"Road\", \n",
    "            \"Trail\", \"Parkway\", \"Commons\"]\n",
    "\n",
    "# UPDATE THIS VARIABLE\n",
    "mapping = { \"St\": \"Street\",\n",
    "            \"St.\": \"Street\",\n",
    "            \"Ave\": \"Avenue\",\n",
    "            \"Rd.\": \"Road\"\n",
    "            }\n",
    "\n",
    "\n",
    "def audit_street_type(street_types, street_name):\n",
    "    m = street_type_re.search(street_name)\n",
    "    if m:\n",
    "        street_type = m.group()\n",
    "        if street_type not in expected:\n",
    "            street_types[street_type].add(street_name)\n",
    "\n",
    "\n",
    "def is_street_name(elem):\n",
    "    return (elem.attrib['k'] == \"addr:street\")\n",
    "\n",
    "\n",
    "def audit(osmfile):\n",
    "    osm_file = open(osmfile, \"r\")\n",
    "    street_types = defaultdict(set)\n",
    "    for event, elem in ET.iterparse(osm_file, events=(\"start\",)):\n",
    "\n",
    "        if elem.tag == \"node\" or elem.tag == \"way\":\n",
    "            for tag in elem.iter(\"tag\"):\n",
    "                if is_street_name(tag):\n",
    "                    audit_street_type(street_types, tag.attrib['v'])\n",
    "    osm_file.close()\n",
    "    return street_types\n",
    "\n",
    "\n",
    "def update_name(name, mapping):\n",
    "    find_street = street_type_re.search(name)\n",
    "    # print m.group()\n",
    "    if find_street.group() in mapping.keys():\n",
    "        name = re.sub(find_street.group(), mapping[find_street.group()], name)\n",
    "    # Alternate solution below using lambda (anonymous function)\n",
    "    # result = street_type_re.sub(lambda x: mapping[x.group()], name)\n",
    "    return name\n",
    "\n",
    "pprint.pprint(dict(audit(filename)))"
   ]
  },
  {
   "cell_type": "markdown",
   "metadata": {},
   "source": [
    "## Trying to use update name with audit definition"
   ]
  },
  {
   "cell_type": "code",
   "execution_count": 6,
   "metadata": {
    "collapsed": false
   },
   "outputs": [
    {
     "name": "stdout",
     "output_type": "stream",
     "text": [
      "'West Lexington Street'\n"
     ]
    }
   ],
   "source": [
    "st_types = audit(filename)\n",
    "for st_type, ways in st_types.items():\n",
    "        for name in ways:\n",
    "            better_name = update_name(name, mapping)\n",
    "            \n",
    "pprint.pprint(better_name)"
   ]
  },
  {
   "cell_type": "markdown",
   "metadata": {},
   "source": [
    "# Big Code from CaseStudy Ready to Put Into CSVs and then Database"
   ]
  },
  {
   "cell_type": "code",
   "execution_count": 7,
   "metadata": {
    "collapsed": false
   },
   "outputs": [
    {
     "ename": "AttributeError",
     "evalue": "'generator' object has no attribute 'tag'",
     "output_type": "error",
     "traceback": [
      "\u001b[0;31m---------------------------------------------------------------------------\u001b[0m",
      "\u001b[0;31mAttributeError\u001b[0m                            Traceback (most recent call last)",
      "\u001b[0;32m<ipython-input-7-ff4c45a604ba>\u001b[0m in \u001b[0;36m<module>\u001b[0;34m()\u001b[0m\n\u001b[1;32m    132\u001b[0m \u001b[0;34m\u001b[0m\u001b[0m\n\u001b[1;32m    133\u001b[0m \u001b[0melement\u001b[0m \u001b[0;34m=\u001b[0m \u001b[0mget_element\u001b[0m\u001b[0;34m(\u001b[0m\u001b[0mfilename\u001b[0m\u001b[0;34m,\u001b[0m \u001b[0mtags\u001b[0m\u001b[0;34m=\u001b[0m\u001b[0;34m(\u001b[0m\u001b[0;34m'node'\u001b[0m\u001b[0;34m,\u001b[0m \u001b[0;34m'way'\u001b[0m\u001b[0;34m,\u001b[0m \u001b[0;34m'relation'\u001b[0m\u001b[0;34m)\u001b[0m\u001b[0;34m)\u001b[0m\u001b[0;34m\u001b[0m\u001b[0m\n\u001b[0;32m--> 134\u001b[0;31m \u001b[0mpprint\u001b[0m\u001b[0;34m.\u001b[0m\u001b[0mpprint\u001b[0m\u001b[0;34m(\u001b[0m\u001b[0mshape_element\u001b[0m\u001b[0;34m(\u001b[0m\u001b[0melement\u001b[0m\u001b[0;34m,\u001b[0m \u001b[0mnode_attr_fields\u001b[0m\u001b[0;34m=\u001b[0m\u001b[0mNODE_FIELDS\u001b[0m\u001b[0;34m,\u001b[0m \u001b[0mway_attr_fields\u001b[0m\u001b[0;34m=\u001b[0m\u001b[0mWAY_FIELDS\u001b[0m\u001b[0;34m,\u001b[0m                            \u001b[0mproblem_chars\u001b[0m\u001b[0;34m=\u001b[0m\u001b[0mPROBLEMCHARS\u001b[0m\u001b[0;34m,\u001b[0m \u001b[0mdefault_tag_type\u001b[0m\u001b[0;34m=\u001b[0m\u001b[0;34m'regular'\u001b[0m\u001b[0;34m)\u001b[0m\u001b[0;34m)\u001b[0m\u001b[0;34m\u001b[0m\u001b[0m\n\u001b[0m",
      "\u001b[0;32m<ipython-input-7-ff4c45a604ba>\u001b[0m in \u001b[0;36mshape_element\u001b[0;34m(element, node_attr_fields, way_attr_fields, problem_chars, default_tag_type)\u001b[0m\n\u001b[1;32m     40\u001b[0m     \u001b[0mtags\u001b[0m \u001b[0;34m=\u001b[0m \u001b[0;34m[\u001b[0m\u001b[0;34m]\u001b[0m  \u001b[0;31m# Handle secondary tags the same way for both node and way elements\u001b[0m\u001b[0;34m\u001b[0m\u001b[0m\n\u001b[1;32m     41\u001b[0m \u001b[0;34m\u001b[0m\u001b[0m\n\u001b[0;32m---> 42\u001b[0;31m     \u001b[0;32mif\u001b[0m \u001b[0melement\u001b[0m\u001b[0;34m.\u001b[0m\u001b[0mtag\u001b[0m \u001b[0;34m==\u001b[0m \u001b[0;34m'node'\u001b[0m\u001b[0;34m:\u001b[0m\u001b[0;34m\u001b[0m\u001b[0m\n\u001b[0m\u001b[1;32m     43\u001b[0m         \u001b[0;32mfor\u001b[0m \u001b[0mattr\u001b[0m \u001b[0;32min\u001b[0m \u001b[0melement\u001b[0m\u001b[0;34m.\u001b[0m\u001b[0mattrib\u001b[0m\u001b[0;34m:\u001b[0m\u001b[0;34m\u001b[0m\u001b[0m\n\u001b[1;32m     44\u001b[0m             \u001b[0;31m#If attributes are in FIELDS\u001b[0m\u001b[0;34m\u001b[0m\u001b[0;34m\u001b[0m\u001b[0m\n",
      "\u001b[0;31mAttributeError\u001b[0m: 'generator' object has no attribute 'tag'"
     ]
    }
   ],
   "source": [
    "# import schema\n",
    "\n",
    "# OSM_PATH = \"example.osm\"\n",
    "\n",
    "NODES_PATH = \"nodes.csv\"\n",
    "NODE_TAGS_PATH = \"nodes_tags.csv\"\n",
    "WAYS_PATH = \"ways.csv\"\n",
    "WAY_NODES_PATH = \"ways_nodes.csv\"\n",
    "WAY_TAGS_PATH = \"ways_tags.csv\"\n",
    "\n",
    "LOWER_COLON = re.compile(r'^([a-z]|_)+:([a-z]|_)+')\n",
    "PROBLEMCHARS = re.compile(r'[=\\+/&<>;\\'\"\\?%#$@\\,\\. \\t\\r\\n]')\n",
    "\n",
    "# SCHEMA = schema.schema\n",
    "\n",
    "# Make sure the fields order in the csvs matches the column order in the sql table schema\n",
    "NODE_FIELDS = ['id', 'lat', 'lon', 'user', 'uid', 'version', 'changeset', 'timestamp']\n",
    "NODE_TAGS_FIELDS = ['id', 'key', 'value', 'type']\n",
    "WAY_FIELDS = ['id', 'user', 'uid', 'version', 'changeset', 'timestamp']\n",
    "WAY_TAGS_FIELDS = ['id', 'key', 'value', 'type']\n",
    "WAY_NODES_FIELDS = ['id', 'node_id', 'position']\n",
    "\n",
    "def get_element(filename, tags=('node', 'way', 'relation')):\n",
    "    \"\"\"Yield element if it is the right type of tag\"\"\"\n",
    "\n",
    "    context = ET.iterparse(osm_file, events=('start', 'end'))\n",
    "    _, root = next(context)\n",
    "    for event, elem in context:\n",
    "        if event == 'end' and elem.tag in tags:\n",
    "            yield elem\n",
    "            root.clear()\n",
    "\n",
    "def shape_element(element, node_attr_fields=NODE_FIELDS, way_attr_fields=WAY_FIELDS,\n",
    "                  problem_chars=PROBLEMCHARS, default_tag_type='regular'):\n",
    "    \"\"\"Clean and shape node or way XML element to Python dict\"\"\"\n",
    "\n",
    "    node_attribs = {}\n",
    "    way_attribs = {}\n",
    "    way_nodes = []\n",
    "    tags = []  # Handle secondary tags the same way for both node and way elements\n",
    "\n",
    "    if element.tag == 'node':\n",
    "        for attr in element.attrib:\n",
    "            #If attributes are in FIELDS\n",
    "            if attr in node_attr_fields:\n",
    "                node_attribs[attr] = element.attrib[attr]\n",
    "        for child in element:\n",
    "            if child.tag == 'tag':\n",
    "                tag = {}\n",
    "                if problem_chars.search(child.attrib[\"k\"]):\n",
    "                    pass\n",
    "                else:\n",
    "                    for i in NODE_TAGS_FIELDS:\n",
    "                        if i=='id':\n",
    "                            tag['id'] = node_attribs['id']\n",
    "    \n",
    "                        elif i=='key':\n",
    "                            if len(child.attrib['k'].split(\":\"))==1:\n",
    "                                tag['key'] = child.attrib['k']\n",
    "    \n",
    "                            elif len(child.attrib['k'].split(\":\"))==2:\n",
    "                                tag['key'] = child.attrib['k'].split(\":\")[1]\n",
    "    \n",
    "                            elif len(child.attrib['k'].split(\":\"))==3:\n",
    "                                tag['key']=child.attrib['k'].split(\":\")[1]+\":\"+child.attrib['k'].split(\":\")[2]\n",
    "    \n",
    "                        elif i == 'value':\n",
    "                            tag[i] = child.attrib['v']\n",
    "    \n",
    "                        elif i == 'type':\n",
    "                            if len(child.attrib['k'].split(\":\"))>=2:\n",
    "                                tag['type']=child.attrib['k'].split(\":\")[0]\n",
    "                            else:\n",
    "                                tag['type'] = default_tag_type\n",
    "                tags.append(tag)\n",
    "            \n",
    "    elif element.tag == 'way':\n",
    "        for attr in element.attrib:\n",
    "            #If attributes are in FIELDS\n",
    "            if attr in way_attr_fields:\n",
    "                    way_attribs[attr] = element.attrib[attr]\n",
    "        count = -1\n",
    "        for child in element:\n",
    "            if child.tag == 'tag':\n",
    "                tag_way = {}\n",
    "                if problem_chars.search(child.attrib[\"k\"]):\n",
    "                    pass\n",
    "                else: \n",
    "                    for i in WAY_TAGS_FIELDS:\n",
    "                        if i=='id':\n",
    "                            tag_way[i] = way_attribs['id']\n",
    "    \n",
    "                        elif i=='key':\n",
    "                            if len(child.attrib['k'].split(\":\"))==1:\n",
    "                                tag_way[i] = child.attrib['k'].split(\":\")[0]\n",
    "    \n",
    "                            elif len(child.attrib['k'].split(\":\"))==2:\n",
    "                                tag_way[i] = child.attrib['k'].split(\":\")[1]\n",
    "    \n",
    "                            elif len(child.attrib['k'].split(\":\"))==3:\n",
    "                                tag_way[i]=child.attrib['k'].split(\":\")[1]+\":\"+child.attrib['k'].split(\":\")[2]\n",
    "    \n",
    "                        elif i == 'value':\n",
    "                            tag_way[i] = child.attrib['v']\n",
    "    \n",
    "                        elif i == 'type':\n",
    "                            if len(child.attrib['k'].split(\":\"))>=2:\n",
    "                                tag_way[i]=child.attrib['k'].split(\":\")[0]\n",
    "                            else:\n",
    "                                tag_way[i] = default_tag_type\n",
    "                tags.append(tag_way)\n",
    "            \n",
    "            elif child.tag == 'nd':\n",
    "                tag = {}\n",
    "                count += 1\n",
    "                for i in WAY_NODES_FIELDS:\n",
    "                    if i =='id':\n",
    "                        tag['id'] = way_attribs['id']\n",
    "                    elif i == 'node_id':\n",
    "                        tag['node_id'] = child.attrib['ref'] \n",
    "                    elif i == 'position':\n",
    "                        # count += 1\n",
    "                        tag['position'] = count\n",
    "                way_nodes.append(tag)\n",
    "\n",
    "    if element.tag == 'node':\n",
    "#         print {'node': node_attribs, 'node_tags': tags}\n",
    "        return {'node': node_attribs, 'node_tags': tags}\n",
    "    elif element.tag == 'way':\n",
    "#         print {'way': way_attribs, 'way_nodes': way_nodes, 'way_tags': tags}\n",
    "        return {'way': way_attribs, 'way_nodes': way_nodes, 'way_tags': tags}\n",
    "\n",
    "element = get_element(filename, tags=('node', 'way', 'relation'))\n",
    "pprint.pprint(shape_element(element, node_attr_fields=NODE_FIELDS, way_attr_fields=WAY_FIELDS,\\\n",
    "                            problem_chars=PROBLEMCHARS, default_tag_type='regular'))"
   ]
  },
  {
   "cell_type": "markdown",
   "metadata": {},
   "source": [
    "## Put this data into a CSV or Find out if you can upload to .DB with XML data"
   ]
  },
  {
   "cell_type": "markdown",
   "metadata": {},
   "source": [
    "## Use to create database\n",
    "\n",
    "https://www.w3schools.com/sql/sql_create_db.asp\n",
    "\n",
    "https://gist.github.com/swwelch/f1144229848b407e0a5d13fcb7fbbd6f"
   ]
  },
  {
   "cell_type": "code",
   "execution_count": null,
   "metadata": {
    "collapsed": true
   },
   "outputs": [],
   "source": []
  }
 ],
 "metadata": {
  "kernelspec": {
   "display_name": "Python [conda env:Python 3.6]",
   "language": "python",
   "name": "conda-env-Python 3.6-py"
  },
  "language_info": {
   "codemirror_mode": {
    "name": "ipython",
    "version": 3
   },
   "file_extension": ".py",
   "mimetype": "text/x-python",
   "name": "python",
   "nbconvert_exporter": "python",
   "pygments_lexer": "ipython3",
   "version": "3.6.1"
  }
 },
 "nbformat": 4,
 "nbformat_minor": 2
}
