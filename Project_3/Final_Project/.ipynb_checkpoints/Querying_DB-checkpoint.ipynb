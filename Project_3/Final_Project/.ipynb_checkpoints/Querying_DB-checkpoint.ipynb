{
 "cells": [
  {
   "cell_type": "markdown",
   "metadata": {},
   "source": [
    "# Querying the Adelaide, South Australia OpenStreetMap Data"
   ]
  },
  {
   "cell_type": "code",
   "execution_count": 2,
   "metadata": {
    "collapsed": true
   },
   "outputs": [],
   "source": [
    "import sqlite3\n",
    "import pandas as pd\n",
    "import csv\n",
    "import os\n",
    "from pprint import pprint"
   ]
  },
  {
   "cell_type": "code",
   "execution_count": 3,
   "metadata": {
    "collapsed": true
   },
   "outputs": [],
   "source": [
    "# name of adelaide database\n",
    "sqlite_file = 'adelaide.db'\n",
    "\n",
    "# connect to database\n",
    "conn = sqlite3.connect(sqlite_file)\n",
    "\n",
    "# get a cursor object\n",
    "cur = conn.cursor()"
   ]
  },
  {
   "cell_type": "markdown",
   "metadata": {},
   "source": [
    "## Map Area - Adelaide, SA Australia\n",
    "\n",
    "#### https://mapzen.com/data/metro-extracts/metro/adelaide_australia/\n",
    "\n",
    "#### This map is the largest city in South Australia, Adelaide. In 2010, I studied abroad and thought this project would be a great way to get reacquainted with the city and the area surrounding it."
   ]
  },
  {
   "cell_type": "markdown",
   "metadata": {},
   "source": [
    "## Summary statistics of adelaide.db\n",
    "### This section contains summary statistics about the datasets and the queries that were used to gain them. \n",
    "\n",
    "#### Descriptive stats for each file imported into adelaide.db"
   ]
  },
  {
   "cell_type": "code",
   "execution_count": 50,
   "metadata": {},
   "outputs": [
    {
     "name": "stdout",
     "output_type": "stream",
     "text": [
      "nodes.csv\n",
      "                 id           lat           lon           uid       version  \\\n",
      "count  1.114143e+06  1.114143e+06  1.114143e+06  1.114143e+06  1.114143e+06   \n",
      "mean   2.460383e+09 -3.488842e+01  1.386219e+02  6.413460e+05  1.306376e+00   \n",
      "std    1.285227e+09  1.358327e-01  9.551153e-02  1.127583e+06  1.100317e+00   \n",
      "min    2.652892e+07 -3.526099e+01  1.384170e+02  1.590000e+02  1.000000e+00   \n",
      "25%    1.800315e+09 -3.495906e+01  1.385407e+02  1.720610e+05  1.000000e+00   \n",
      "50%    2.293527e+09 -3.488178e+01  1.386122e+02  2.098670e+05  1.000000e+00   \n",
      "75%    3.159142e+09 -3.480214e+01  1.386882e+02  3.415190e+05  1.000000e+00   \n",
      "max    5.121893e+09 -3.457001e+01  1.388540e+02  6.692273e+06  4.300000e+01   \n",
      "\n",
      "          changeset  \n",
      "count  1.114143e+06  \n",
      "mean   2.160189e+07  \n",
      "std    1.364356e+07  \n",
      "min    4.161000e+03  \n",
      "25%    1.267715e+07  \n",
      "50%    1.665684e+07  \n",
      "75%    2.901270e+07  \n",
      "max    5.227505e+07  \n",
      "nodes_tags.csv\n",
      "                 id\n",
      "count  7.479900e+04\n",
      "mean   2.109125e+09\n",
      "std    1.132552e+09\n",
      "min    2.653677e+07\n",
      "25%    1.764259e+09\n",
      "50%    2.280660e+09\n",
      "75%    2.280671e+09\n",
      "max    5.121185e+09\n",
      "ways.csv\n",
      "                 id           uid        version     changeset\n",
      "count  1.454090e+05  1.454090e+05  145409.000000  1.454090e+05\n",
      "mean   2.385446e+08  7.290041e+05       2.252330  2.624907e+07\n",
      "std    1.364844e+08  1.314545e+06       2.557346  1.390563e+07\n",
      "min    4.354947e+06  1.590000e+02       1.000000  8.726000e+03\n",
      "25%    1.702264e+08  1.720610e+05       1.000000  1.565444e+07\n",
      "50%    2.202290e+08  1.720610e+05       1.000000  2.131932e+07\n",
      "75%    3.112681e+08  3.285380e+05       2.000000  4.027499e+07\n",
      "max    5.267710e+08  6.671133e+06      57.000000  5.227505e+07\n",
      "ways_nodes.csv\n",
      "                 id       node_id      position\n",
      "count  1.330775e+06  1.330775e+06  1.330775e+06\n",
      "mean   2.386014e+08  2.419543e+09  2.060016e+01\n",
      "std    1.377354e+08  1.292277e+09  7.093113e+01\n",
      "min    4.354947e+06  2.652892e+07  0.000000e+00\n",
      "25%    1.656119e+08  1.772567e+09  2.000000e+00\n",
      "50%    2.208408e+08  2.289010e+09  5.000000e+00\n",
      "75%    3.112431e+08  3.157462e+09  1.200000e+01\n",
      "max    5.267710e+08  5.121893e+09  1.664000e+03\n",
      "ways_tags.csv\n",
      "                 id\n",
      "count  3.435580e+05\n",
      "mean   1.991662e+08\n",
      "std    1.296961e+08\n",
      "min    4.354947e+06\n",
      "25%    9.202360e+07\n",
      "50%    1.803300e+08\n",
      "75%    2.618023e+08\n",
      "max    5.267666e+08\n"
     ]
    }
   ],
   "source": [
    "path = \"/Users/marcmaybaum/Desktop/Education/Udacity/Data_Analyst_Nanodegree/Project_3/Final_Project/Full OSM File/3 Final//\"\n",
    "\n",
    "for file in os.listdir(path):\n",
    "    adjfile = \"/Users/marcmaybaum/Desktop/Education/Udacity/Data_Analyst_Nanodegree/Project_3/Final_Project/Full OSM File/3 Final//\" + file\n",
    "    df = pd.read_csv(adjfile)\n",
    "    print (file)\n",
    "    print(df.describe())"
   ]
  },
  {
   "cell_type": "markdown",
   "metadata": {},
   "source": [
    "#### Number of nodes in OpenStreetMap data"
   ]
  },
  {
   "cell_type": "code",
   "execution_count": 4,
   "metadata": {},
   "outputs": [
    {
     "name": "stdout",
     "output_type": "stream",
     "text": [
      "         0\n",
      "0  1114143\n"
     ]
    }
   ],
   "source": [
    "query1_0 = '''select count(*)\n",
    "            from nodes'''\n",
    "cur.execute(query1_0)\n",
    "results = cur.fetchall()\n",
    "\n",
    "df = pd.DataFrame(results)\n",
    "print (df)"
   ]
  },
  {
   "cell_type": "markdown",
   "metadata": {},
   "source": [
    "#### Number of unique users who contributed to the OpenStreetMap nodes data"
   ]
  },
  {
   "cell_type": "code",
   "execution_count": 10,
   "metadata": {},
   "outputs": [
    {
     "name": "stdout",
     "output_type": "stream",
     "text": [
      "     0\n",
      "0  695\n"
     ]
    }
   ],
   "source": [
    "query1_1 = '''select count(distinct uid)\n",
    "            from nodes'''\n",
    "cur.execute(query1_1)\n",
    "results = cur.fetchall()\n",
    "\n",
    "df = pd.DataFrame(results)\n",
    "print (df)"
   ]
  },
  {
   "cell_type": "markdown",
   "metadata": {},
   "source": [
    "#### List of all node keys and the count of them in DB"
   ]
  },
  {
   "cell_type": "code",
   "execution_count": 12,
   "metadata": {
    "scrolled": true
   },
   "outputs": [
    {
     "name": "stdout",
     "output_type": "stream",
     "text": [
      "                    0      1\n",
      "0             highway  15783\n",
      "1                name  11354\n",
      "2              source   9790\n",
      "3             stop_id   7131\n",
      "4             amenity   5019\n",
      "5             natural   3910\n",
      "6          created_by   3096\n",
      "7               power   1334\n",
      "8                shop   1264\n",
      "9         housenumber   1147\n",
      "10             street   1066\n",
      "11           postcode    868\n",
      "12            barrier    846\n",
      "13            railway    715\n",
      "14               odbl    641\n",
      "15             noexit    624\n",
      "16               city    577\n",
      "17            leisure    550\n",
      "18    traffic_calming    538\n",
      "19            website    508\n",
      "20            cuisine    494\n",
      "21           crossing    389\n",
      "22   public_transport    372\n",
      "23              place    357\n",
      "24           operator    344\n",
      "25      opening_hours    292\n",
      "26              is_in    287\n",
      "27            tourism    261\n",
      "28           man_made    256\n",
      "29              level    244\n",
      "..                ...    ...\n",
      "269            name_1      1\n",
      "270              none      1\n",
      "271        octane_100      1\n",
      "272          old_name      1\n",
      "273           organic      1\n",
      "274          pipeline      1\n",
      "275            po_box      1\n",
      "276      power_supply      1\n",
      "277          province      1\n",
      "278        restaurant      1\n",
      "279            retail      1\n",
      "280             ruins      1\n",
      "281          seasonal      1\n",
      "282        segregated      1\n",
      "283      self_service      1\n",
      "284              size      1\n",
      "285         smokefree      1\n",
      "286                sr      1\n",
      "287         superwash      1\n",
      "288                sv      1\n",
      "289                ta      1\n",
      "290              todo      1\n",
      "291          trailers      1\n",
      "292             train      1\n",
      "293                uk      1\n",
      "294             vegan      1\n",
      "295              visa      1\n",
      "296           voltage      1\n",
      "297             water      1\n",
      "298         winemaker      1\n",
      "\n",
      "[299 rows x 2 columns]\n"
     ]
    }
   ],
   "source": [
    "query1_4 = '''select distinct key, count(value) \n",
    "            from nodes_tags\n",
    "            group by key \n",
    "            order by count(value) desc'''\n",
    "cur.execute(query1_4)\n",
    "results = cur.fetchall()\n",
    "\n",
    "df = pd.DataFrame(results)\n",
    "print (df)"
   ]
  },
  {
   "cell_type": "markdown",
   "metadata": {},
   "source": [
    "#### Number of ways in OpenStreetMap data"
   ]
  },
  {
   "cell_type": "code",
   "execution_count": 20,
   "metadata": {},
   "outputs": [
    {
     "name": "stdout",
     "output_type": "stream",
     "text": [
      "        0\n",
      "0  145409\n"
     ]
    }
   ],
   "source": [
    "query1_2 = '''select count(distinct id)\n",
    "            from ways'''\n",
    "cur.execute(query1_2)\n",
    "results = cur.fetchall()\n",
    "\n",
    "df = pd.DataFrame(results)\n",
    "print (df)"
   ]
  },
  {
   "cell_type": "markdown",
   "metadata": {},
   "source": [
    "#### Number of unique users who contributed to the OpenStreetMap ways data"
   ]
  },
  {
   "cell_type": "code",
   "execution_count": 11,
   "metadata": {},
   "outputs": [
    {
     "name": "stdout",
     "output_type": "stream",
     "text": [
      "     0\n",
      "0  582\n"
     ]
    }
   ],
   "source": [
    "query1_3 = '''select count(distinct uid)\n",
    "            from ways'''\n",
    "cur.execute(query1_3)\n",
    "results = cur.fetchall()\n",
    "\n",
    "df = pd.DataFrame(results)\n",
    "print (df)"
   ]
  },
  {
   "cell_type": "markdown",
   "metadata": {},
   "source": [
    "#### List of all ways keys and count of them in DB"
   ]
  },
  {
   "cell_type": "code",
   "execution_count": 13,
   "metadata": {
    "scrolled": true
   },
   "outputs": [
    {
     "name": "stdout",
     "output_type": "stream",
     "text": [
      "               0      1\n",
      "0        highway  64096\n",
      "1       building  56640\n",
      "2           name  50476\n",
      "3         source  30884\n",
      "4       maxspeed  15680\n",
      "5         oneway  13703\n",
      "6        surface  11964\n",
      "7        landuse   5978\n",
      "8       postcode   5688\n",
      "9        service   5529\n",
      "10       leisure   5478\n",
      "11   housenumber   5262\n",
      "12        street   5129\n",
      "13        levels   3999\n",
      "14         lanes   3471\n",
      "15          foot   3297\n",
      "16       amenity   3227\n",
      "17          city   3050\n",
      "18      waterway   3020\n",
      "19       bicycle   2876\n",
      "20         is_in   2717\n",
      "21        access   2465\n",
      "22       natural   2363\n",
      "23      cycleway   2226\n",
      "24         sport   2129\n",
      "25           ref   2028\n",
      "26       barrier   1825\n",
      "27         order   1824\n",
      "28      junction   1442\n",
      "29         layer   1232\n",
      "..           ...    ...\n",
      "308   population      1\n",
      "309     quantity      1\n",
      "310        radio      1\n",
      "311     real_ale      1\n",
      "312       remote      1\n",
      "313     resident      1\n",
      "314   restaurant      1\n",
      "315  restriction      1\n",
      "316        right      1\n",
      "317         role      1\n",
      "318         room      1\n",
      "319        rooms      1\n",
      "320      routetb      1\n",
      "321        ruins      1\n",
      "322  second_hand      1\n",
      "323    shape_len      1\n",
      "324      source2      1\n",
      "325     starcash      1\n",
      "326        stars      1\n",
      "327         stay      1\n",
      "328        steps      1\n",
      "329    superwash      1\n",
      "330   trail_na_2      1\n",
      "331   trail_rati      1\n",
      "332     trailers      1\n",
      "333      twitter      1\n",
      "334      weather      1\n",
      "335         webs      1\n",
      "336        women      1\n",
      "337           zh      1\n",
      "\n",
      "[338 rows x 2 columns]\n"
     ]
    }
   ],
   "source": [
    "query1_5 = '''select distinct key, count(value) \n",
    "            from ways_tags\n",
    "            group by key \n",
    "            order by count(value) desc'''\n",
    "cur.execute(query1_5)\n",
    "results = cur.fetchall()\n",
    "\n",
    "df = pd.DataFrame(results)\n",
    "print (df)"
   ]
  },
  {
   "cell_type": "markdown",
   "metadata": {},
   "source": [
    "### After becoming familiar with each individual dataset, I want to look at the datasets when the nodes and ways tables are combined. I will make a master table/view because all keys/values in ways & nodes have relationships.\n",
    "\n",
    "https://wiki.openstreetmap.org/wiki/Way\n",
    "\n",
    "https://wiki.openstreetmap.org/wiki/Node\n",
    "\n",
    "### Ways are the totality of each shared Node Id. Ways and Nodes can be matched by the Ways_Nodes table, which matches Ways Id with Nodes Id. To create this joined table, we will be using these ID fields."
   ]
  },
  {
   "cell_type": "code",
   "execution_count": 21,
   "metadata": {},
   "outputs": [
    {
     "name": "stdout",
     "output_type": "stream",
     "text": [
      "Empty DataFrame\n",
      "Columns: []\n",
      "Index: []\n"
     ]
    }
   ],
   "source": [
    "query0 = '''drop view master'''\n",
    "cur.execute(query0)\n",
    "results = cur.fetchall()\n",
    "\n",
    "df = pd.DataFrame(results)\n",
    "print (df)"
   ]
  },
  {
   "cell_type": "markdown",
   "metadata": {},
   "source": [
    "### Creating master view of all data that is able to be matched on the below shared fields"
   ]
  },
  {
   "cell_type": "code",
   "execution_count": 22,
   "metadata": {},
   "outputs": [
    {
     "name": "stdout",
     "output_type": "stream",
     "text": [
      "Empty DataFrame\n",
      "Columns: []\n",
      "Index: []\n"
     ]
    }
   ],
   "source": [
    "query2 = '''\n",
    "            create view master as\n",
    "            select distinct ways_nodes.id as ways_id, ways_nodes.node_id as nodes_id, ways_tags.key as ways_key, ways_tags.value as ways_value, nodes_tags.key as nodes_key, nodes_tags.value as nodes_value\n",
    "            from ways_nodes\n",
    "            INNER JOIN nodes_tags ON nodes_tags.id = ways_nodes.node_id \n",
    "            INNER JOIN ways_tags ON ways_nodes.id = ways_tags.id\n",
    "            order by ways_nodes.id\n",
    "        '''\n",
    "cur.execute(query2)\n",
    "results = cur.fetchall()\n",
    "\n",
    "df = pd.DataFrame(results)\n",
    "print (df)"
   ]
  },
  {
   "cell_type": "markdown",
   "metadata": {},
   "source": [
    "### Previewing the master view created"
   ]
  },
  {
   "cell_type": "code",
   "execution_count": 23,
   "metadata": {
    "scrolled": true
   },
   "outputs": [
    {
     "name": "stdout",
     "output_type": "stream",
     "text": [
      "          0         1        2          3           4                  5\n",
      "0   4688888  29802484  natural  coastline      source                pgs\n",
      "1   4688889  29802451  natural  coastline  created_by  almien_coastlines\n",
      "2   4688889  29802451  natural  coastline      source                pgs\n",
      "3   4688889  29802464  natural  coastline  created_by  almien_coastlines\n",
      "4   4688889  29802464  natural  coastline      source                pgs\n",
      "5   4688889  31910967  natural  coastline      source                pgs\n",
      "6   4688917  29802313  natural  coastline      source                pgs\n",
      "7   4688917  29802314  natural  coastline      source                pgs\n",
      "8   4688917  29802328  natural  coastline      source                pgs\n",
      "9   4688917  29802331  natural  coastline      source                pgs\n",
      "10  4688917  29802334  natural  coastline  created_by  almien_coastlines\n",
      "11  4688917  29802334  natural  coastline      source                pgs\n",
      "12  4688917  29802351  natural  coastline      source                pgs\n",
      "13  4688917  29802352  natural  coastline      source                pgs\n",
      "14  4688917  29802362  natural  coastline      source                pgs\n",
      "15  4688917  29802363  natural  coastline      source                pgs\n",
      "16  4688917  29802364  natural  coastline      source                pgs\n",
      "17  4688917  29802366  natural  coastline  created_by  almien_coastlines\n",
      "18  4688917  29802366  natural  coastline      source                pgs\n",
      "19  4688917  29802368  natural  coastline  created_by  almien_coastlines\n",
      "20  4688917  29802368  natural  coastline      source                pgs\n",
      "21  4688917  29802369  natural  coastline      source                pgs\n",
      "22  4688917  29802371  natural  coastline      source                pgs\n",
      "23  4688917  29802373  natural  coastline      source                pgs\n",
      "24  4688917  29802376  natural  coastline  created_by  almien_coastlines\n",
      "25  4688917  29802376  natural  coastline      source                pgs\n",
      "26  4688917  29802379  natural  coastline  created_by  almien_coastlines\n",
      "27  4688917  29802379  natural  coastline      source                pgs\n",
      "28  4688917  29802380  natural  coastline  created_by  almien_coastlines\n",
      "29  4688917  29802380  natural  coastline      source                pgs\n",
      "30  4688917  29802381  natural  coastline  created_by  almien_coastlines\n",
      "31  4688917  29802381  natural  coastline      source                pgs\n",
      "32  4688917  29802384  natural  coastline  created_by  almien_coastlines\n",
      "33  4688917  29802384  natural  coastline      source                pgs\n",
      "34  4688917  29802389  natural  coastline      source                pgs\n",
      "35  4688917  29802390  natural  coastline  created_by  almien_coastlines\n",
      "36  4688917  29802390  natural  coastline      source                pgs\n",
      "37  4688917  29802393  natural  coastline  created_by  almien_coastlines\n",
      "38  4688917  29802393  natural  coastline      source                pgs\n",
      "39  4688917  29802405  natural  coastline      source                pgs\n",
      "40  4688917  29802416  natural  coastline  created_by  almien_coastlines\n",
      "41  4688917  29802416  natural  coastline      source                pgs\n",
      "42  4688917  29802420  natural  coastline  created_by  almien_coastlines\n",
      "43  4688917  29802420  natural  coastline      source                pgs\n",
      "44  4688917  29802422  natural  coastline      source                pgs\n",
      "45  4688917  29802433  natural  coastline  created_by  almien_coastlines\n",
      "46  4688917  29802433  natural  coastline      source                pgs\n",
      "47  4688917  29802434  natural  coastline      source                pgs\n",
      "48  4688917  29802439  natural  coastline      source                pgs\n",
      "49  4688917  29802451  natural  coastline  created_by  almien_coastlines\n"
     ]
    }
   ],
   "source": [
    "query2_1 = '''\n",
    "            select *\n",
    "            from master\n",
    "            where ways_key = 'natural'\n",
    "            limit 50\n",
    "        '''\n",
    "cur.execute(query2_1)\n",
    "results = cur.fetchall()\n",
    "\n",
    "df = pd.DataFrame(results)\n",
    "print (df)"
   ]
  },
  {
   "cell_type": "markdown",
   "metadata": {},
   "source": [
    "### Counting number of rows in master table"
   ]
  },
  {
   "cell_type": "code",
   "execution_count": 18,
   "metadata": {},
   "outputs": [
    {
     "name": "stdout",
     "output_type": "stream",
     "text": [
      "        0\n",
      "0  108072\n"
     ]
    }
   ],
   "source": [
    "query2_2 = '''\n",
    "            select count(*)\n",
    "            from master\n",
    "        '''\n",
    "cur.execute(query2_2)\n",
    "results = cur.fetchall()\n",
    "\n",
    "df = pd.DataFrame(results)\n",
    "print (df)"
   ]
  },
  {
   "cell_type": "markdown",
   "metadata": {},
   "source": [
    "## Problems encountered in data\n",
    "## 1) All IDs do not match all possible way ids in previous query\n",
    "### Can be seen by comparing count of ways_tags ids vs count of ids in master table (above), or the count of nodes values and distinct node keys vs the master table of nodes keys and count of value (below)."
   ]
  },
  {
   "cell_type": "code",
   "execution_count": 283,
   "metadata": {
    "scrolled": true
   },
   "outputs": [
    {
     "name": "stdout",
     "output_type": "stream",
     "text": [
      "                   0    1\n",
      "0            highway  484\n",
      "1         created_by   90\n",
      "2            railway   82\n",
      "3             source   58\n",
      "4               odbl   52\n",
      "5             noexit   33\n",
      "6           crossing   28\n",
      "7            barrier   23\n",
      "8   public_transport   23\n",
      "9              power   19\n",
      "10               bus   16\n",
      "11   traffic_calming   16\n",
      "12              name   11\n",
      "13             fixme   10\n",
      "14          man_made    8\n",
      "15             mount    8\n",
      "16      surveillance    8\n",
      "17              type    8\n",
      "18          operator    7\n",
      "19           bicycle    5\n",
      "20              foot    5\n",
      "21          waterway    5\n",
      "22           stop_id    4\n",
      "23          motorcar    3\n",
      "24        motorcycle    3\n",
      "25            access    2\n",
      "26      crossing_ref    2\n"
     ]
    }
   ],
   "source": [
    "query3_1 = '''select distinct nodes_key, count(nodes_value) \n",
    "            from master \n",
    "            group by nodes_key \n",
    "            order by count(nodes_value) desc'''\n",
    "cur.execute(query3_1)\n",
    "results = cur.fetchall()\n",
    "\n",
    "df = pd.DataFrame(results)\n",
    "print (df)"
   ]
  },
  {
   "cell_type": "markdown",
   "metadata": {},
   "source": [
    "### Master Keys & Count of Values of Keys (above) vs Nodes_Tags Keys & Count of Keys (below)"
   ]
  },
  {
   "cell_type": "code",
   "execution_count": 299,
   "metadata": {
    "scrolled": true
   },
   "outputs": [
    {
     "name": "stdout",
     "output_type": "stream",
     "text": [
      "                    0      1\n",
      "0             highway  15783\n",
      "1                name  11354\n",
      "2              source   9790\n",
      "3             stop_id   7131\n",
      "4             amenity   5019\n",
      "5             natural   3910\n",
      "6          created_by   3096\n",
      "7               power   1334\n",
      "8                shop   1264\n",
      "9         housenumber   1147\n",
      "10             street   1066\n",
      "11           postcode    868\n",
      "12            barrier    846\n",
      "13            railway    715\n",
      "14               odbl    641\n",
      "15             noexit    624\n",
      "16               city    577\n",
      "17            leisure    550\n",
      "18    traffic_calming    538\n",
      "19            website    508\n",
      "20            cuisine    494\n",
      "21           crossing    389\n",
      "22   public_transport    372\n",
      "23              place    357\n",
      "24           operator    344\n",
      "25      opening_hours    292\n",
      "26              is_in    287\n",
      "27            tourism    261\n",
      "28           man_made    256\n",
      "29              level    244\n",
      "..                ...    ...\n",
      "269            name_1      1\n",
      "270              none      1\n",
      "271        octane_100      1\n",
      "272          old_name      1\n",
      "273           organic      1\n",
      "274          pipeline      1\n",
      "275            po_box      1\n",
      "276      power_supply      1\n",
      "277          province      1\n",
      "278        restaurant      1\n",
      "279            retail      1\n",
      "280             ruins      1\n",
      "281          seasonal      1\n",
      "282        segregated      1\n",
      "283      self_service      1\n",
      "284              size      1\n",
      "285         smokefree      1\n",
      "286                sr      1\n",
      "287         superwash      1\n",
      "288                sv      1\n",
      "289                ta      1\n",
      "290              todo      1\n",
      "291          trailers      1\n",
      "292             train      1\n",
      "293                uk      1\n",
      "294             vegan      1\n",
      "295              visa      1\n",
      "296           voltage      1\n",
      "297             water      1\n",
      "298         winemaker      1\n",
      "\n",
      "[299 rows x 2 columns]\n"
     ]
    }
   ],
   "source": [
    "query3_2 = '''select distinct key, count(value) \n",
    "            from nodes_tags\n",
    "            group by key \n",
    "            order by count(value) desc'''\n",
    "cur.execute(query3_2)\n",
    "results = cur.fetchall()\n",
    "\n",
    "df = pd.DataFrame(results)\n",
    "print (df)"
   ]
  },
  {
   "cell_type": "markdown",
   "metadata": {},
   "source": [
    "## This means that not all ways are connected to their nodes by id field in ways_tags\n",
    "### This problem cannot be identified with a programmatic fix as id field cannot be re-written. This issue will continue unless someone is able to identify what node ids are missing their way ids, which must be done at the data input level."
   ]
  },
  {
   "cell_type": "markdown",
   "metadata": {},
   "source": [
    "## Problems encountered in data\n",
    "## Issue 2: Non-normalized keys in Nodes_Tags\n",
    "### Many keys have repeated language for the same information (example: postal_code & postcode:source can be compacted to postcode). Though there are other keys that could be re-mapped to an existing key, I have addressed the obvious ones (postcode & address).\n",
    "## Solution: Programmatically categorize with mapping sheet"
   ]
  },
  {
   "cell_type": "code",
   "execution_count": 29,
   "metadata": {
    "scrolled": true
   },
   "outputs": [
    {
     "name": "stdout",
     "output_type": "stream",
     "text": [
      "                    0      1\n",
      "0             highway  15783\n",
      "1                name  11354\n",
      "2              source   9790\n",
      "3             stop_id   7131\n",
      "4             amenity   5019\n",
      "5             natural   3910\n",
      "6          created_by   3096\n",
      "7               power   1334\n",
      "8                shop   1264\n",
      "9         housenumber   1147\n",
      "10             street   1066\n",
      "11           postcode    868\n",
      "12            barrier    846\n",
      "13            railway    715\n",
      "14               odbl    641\n",
      "15             noexit    624\n",
      "16               city    577\n",
      "17            leisure    550\n",
      "18    traffic_calming    538\n",
      "19            website    508\n",
      "20            cuisine    494\n",
      "21           crossing    389\n",
      "22   public_transport    372\n",
      "23              place    357\n",
      "24           operator    344\n",
      "25      opening_hours    292\n",
      "26              is_in    287\n",
      "27            tourism    261\n",
      "28           man_made    256\n",
      "29              level    244\n",
      "..                ...    ...\n",
      "269            name_1      1\n",
      "270              none      1\n",
      "271        octane_100      1\n",
      "272          old_name      1\n",
      "273           organic      1\n",
      "274          pipeline      1\n",
      "275            po_box      1\n",
      "276      power_supply      1\n",
      "277          province      1\n",
      "278        restaurant      1\n",
      "279            retail      1\n",
      "280             ruins      1\n",
      "281          seasonal      1\n",
      "282        segregated      1\n",
      "283      self_service      1\n",
      "284              size      1\n",
      "285         smokefree      1\n",
      "286                sr      1\n",
      "287         superwash      1\n",
      "288                sv      1\n",
      "289                ta      1\n",
      "290              todo      1\n",
      "291          trailers      1\n",
      "292             train      1\n",
      "293                uk      1\n",
      "294             vegan      1\n",
      "295              visa      1\n",
      "296           voltage      1\n",
      "297             water      1\n",
      "298         winemaker      1\n",
      "\n",
      "[299 rows x 2 columns]\n"
     ]
    }
   ],
   "source": [
    "query3_3 = '''select distinct key, count(value) \n",
    "            from nodes_tags \n",
    "            group by key \n",
    "            order by count(value) desc'''\n",
    "cur.execute(query3_3)\n",
    "results = cur.fetchall()\n",
    "\n",
    "df = pd.DataFrame(results)\n",
    "print (df)"
   ]
  },
  {
   "cell_type": "markdown",
   "metadata": {},
   "source": [
    "### The same can be done for ways. Querying below to find out all keys in ways that need re-mapping."
   ]
  },
  {
   "cell_type": "code",
   "execution_count": 30,
   "metadata": {
    "scrolled": true
   },
   "outputs": [
    {
     "name": "stdout",
     "output_type": "stream",
     "text": [
      "               0      1\n",
      "0        highway  64096\n",
      "1       building  56640\n",
      "2           name  50476\n",
      "3         source  30884\n",
      "4       maxspeed  15680\n",
      "5         oneway  13703\n",
      "6        surface  11964\n",
      "7        landuse   5978\n",
      "8       postcode   5688\n",
      "9        service   5529\n",
      "10       leisure   5478\n",
      "11   housenumber   5262\n",
      "12        street   5129\n",
      "13        levels   3999\n",
      "14         lanes   3471\n",
      "15          foot   3297\n",
      "16       amenity   3227\n",
      "17          city   3050\n",
      "18      waterway   3020\n",
      "19       bicycle   2876\n",
      "20         is_in   2717\n",
      "21        access   2465\n",
      "22       natural   2363\n",
      "23      cycleway   2226\n",
      "24         sport   2129\n",
      "25           ref   2028\n",
      "26       barrier   1825\n",
      "27         order   1824\n",
      "28      junction   1442\n",
      "29         layer   1232\n",
      "..           ...    ...\n",
      "308   population      1\n",
      "309     quantity      1\n",
      "310        radio      1\n",
      "311     real_ale      1\n",
      "312       remote      1\n",
      "313     resident      1\n",
      "314   restaurant      1\n",
      "315  restriction      1\n",
      "316        right      1\n",
      "317         role      1\n",
      "318         room      1\n",
      "319        rooms      1\n",
      "320      routetb      1\n",
      "321        ruins      1\n",
      "322  second_hand      1\n",
      "323    shape_len      1\n",
      "324      source2      1\n",
      "325     starcash      1\n",
      "326        stars      1\n",
      "327         stay      1\n",
      "328        steps      1\n",
      "329    superwash      1\n",
      "330   trail_na_2      1\n",
      "331   trail_rati      1\n",
      "332     trailers      1\n",
      "333      twitter      1\n",
      "334      weather      1\n",
      "335         webs      1\n",
      "336        women      1\n",
      "337           zh      1\n",
      "\n",
      "[338 rows x 2 columns]\n"
     ]
    }
   ],
   "source": [
    "query3_4 = '''select distinct key, count(value) \n",
    "            from ways_tags \n",
    "            group by key \n",
    "            order by count(value) desc'''\n",
    "\n",
    "cur.execute(query3_4)\n",
    "results = cur.fetchall()\n",
    "\n",
    "df = pd.DataFrame(results)\n",
    "print (df)"
   ]
  },
  {
   "cell_type": "markdown",
   "metadata": {},
   "source": [
    "## Next I am going to explore Nodes Tags details to understand the data in the database and the organization of the values and the needed organization of the values"
   ]
  },
  {
   "cell_type": "code",
   "execution_count": 31,
   "metadata": {
    "scrolled": true
   },
   "outputs": [
    {
     "name": "stdout",
     "output_type": "stream",
     "text": [
      "          0    1\n",
      "0            304\n",
      "1      5000  129\n",
      "2      5159  115\n",
      "3      5031   47\n",
      "4      5115   21\n",
      "5      5152   20\n",
      "6      5006   19\n",
      "7      5013   11\n",
      "8      5114   10\n",
      "9      5154   10\n",
      "10     5127    8\n",
      "11     5020    7\n",
      "12     5040    7\n",
      "13     5064    7\n",
      "14     5095    7\n",
      "15     5063    6\n",
      "16     5033    5\n",
      "17     5045    5\n",
      "18     5068    5\n",
      "19     5023    4\n",
      "20     5051    4\n",
      "21     5067    4\n",
      "22     5082    4\n",
      "23     5108    4\n",
      "24     5245    4\n",
      "25     5007    3\n",
      "26     5008    3\n",
      "27     5015    3\n",
      "28     5019    3\n",
      "29     5038    3\n",
      "..      ...  ...\n",
      "59     5042    1\n",
      "60     5043    1\n",
      "61     5048    1\n",
      "62     5049    1\n",
      "63     5050    1\n",
      "64     5052    1\n",
      "65     5061    1\n",
      "66     5070    1\n",
      "67     5073    1\n",
      "68     5074    1\n",
      "69     5084    1\n",
      "70     5087    1\n",
      "71     5091    1\n",
      "72     5092    1\n",
      "73     5093    1\n",
      "74     5094    1\n",
      "75     5107    1\n",
      "76     5117    1\n",
      "77     5118    1\n",
      "78     5125    1\n",
      "79     5158    1\n",
      "80     5201    1\n",
      "81     5240    1\n",
      "82     5242    1\n",
      "83     5251    1\n",
      "84     5351    1\n",
      "85     5501    1\n",
      "86     5950    1\n",
      "87  sa_5016    1\n",
      "88  sa_5052    1\n",
      "\n",
      "[89 rows x 2 columns]\n"
     ]
    }
   ],
   "source": [
    "# looking into all values for specific key values\n",
    "# also looked into power, shop, street as key value\n",
    "\n",
    "query3_5 = '''select distinct value, count(value)\n",
    "            from nodes_tags\n",
    "            where key = 'postcode'\n",
    "            group by value\n",
    "            order by count(value) desc\n",
    "            '''\n",
    "cur.execute(query3_5)\n",
    "results = cur.fetchall()\n",
    "\n",
    "df = pd.DataFrame(results)\n",
    "\n",
    "print (df)"
   ]
  },
  {
   "cell_type": "markdown",
   "metadata": {},
   "source": [
    "## Looking into Ways Tags  details to understand the data in them and the organization of the values\n",
    "\n",
    "## Problems encountered in data\n",
    "\n",
    "## Issue 3: No organization to information that could be programmatically organized for the key 'website'\n",
    "\n",
    "## Solution: clean the data by standardizing the beginning of the web address to 'http://www' and the end of the address to '.X' (the X could be 'com', 'org', 'gov', 'com.au', etc)"
   ]
  },
  {
   "cell_type": "code",
   "execution_count": 32,
   "metadata": {
    "scrolled": true
   },
   "outputs": [
    {
     "name": "stdout",
     "output_type": "stream",
     "text": [
      "                                            0   1\n",
      "0           http://www.charlessturt.sa.gov.au  24\n",
      "1         http://www.adelaideparklands.com.au   8\n",
      "2                  http://www.bunnings.com.au   4\n",
      "3       http://www.centralmarketarcade.com.au   4\n",
      "4                 http://www.westfield.com.au   4\n",
      "5              http://www.adelaiderevival.com   3\n",
      "6                 http://www.marion.sa.gov.au   3\n",
      "7             http://www.nationaltrust.org.au   3\n",
      "8                   http://www.99bikes.com.au   2\n",
      "9           http://www.adelaideairport.com.au   2\n",
      "10             http://www.adelaideoval.com.au   2\n",
      "11              http://www.bikesociety.com.au   2\n",
      "12                  http://www.btmgolf.com.au   2\n",
      "13                    http://www.coles.com.au   2\n",
      "14             http://www.en.wikipedia.org.au   2\n",
      "15                    http://www.facebook.com   2\n",
      "16        http://www.fg-shoppingcentre.com.au   2\n",
      "17               http://www.foodlandsa.com.au   2\n",
      "18                     http://www.gaza.com.au   2\n",
      "19     http://www.henleysquarepavilion.com.au   2\n",
      "20                http://www.mcdonalds.com.au   2\n",
      "21                http://www.newrah.sa.gov.au   2\n",
      "22               http://www.realestate.com.au   2\n",
      "23                  http://www.slsa.sa.gov.au   2\n",
      "24            http://www.adelaide-club.asn.au   1\n",
      "25   http://www.adelaidefestivalcentre.com.au   1\n",
      "26              http://www.adelaideinn.com.au   1\n",
      "27         http://www.adelaidepavilion.com.au   1\n",
      "28      http://www.adelaidesailingclub.com.au   1\n",
      "29                http://www.airmaster.com.au   1\n",
      "..                                        ...  ..\n",
      "175              http://www.targetriflesa.com   1\n",
      "176                http://www.tennyson.org.au   1\n",
      "177             http://www.terminalspl.com.au   1\n",
      "178          http://www.thebikestation.com.au   1\n",
      "179               http://www.theblacks.com.au   1\n",
      "180            http://www.thechillinspace.com   1\n",
      "181               http://www.theexeter.com.au   1\n",
      "182                http://www.thegreek.com.au   1\n",
      "183          http://www.thehenryaustin.com.au   1\n",
      "184    http://www.thelearningsanctuary.com.au   1\n",
      "185     http://www.thememorialhospital.org.au   1\n",
      "186                http://www.therange.net.au   1\n",
      "187     http://www.theredmillbakehouse.com.au   1\n",
      "188          http://www.thetopiarycafe.com.au   1\n",
      "189               http://www.toiletmap.gov.au   1\n",
      "190                http://www.unitedoc.com.au   1\n",
      "191            http://www.uraidlahotel.com.au   1\n",
      "192        http://www.visiononmorphett.com.au   1\n",
      "193              http://www.vivazapata.com.au   1\n",
      "194                  http://www.wch.sa.gov.au   1\n",
      "195                  http://www.wea-sa.com.au   1\n",
      "196                 http://www.webmenu.com.au   1\n",
      "197              http://www.weewillies.com.au   1\n",
      "198       http://www.westlakesgolfclub.com.au   1\n",
      "199          http://www.westtorrens.sa.gov.au   1\n",
      "200                  http://www.whs.sa.gov.au   1\n",
      "201             http://www.wigglyworms.com.au   1\n",
      "202              http://www.woolworths.com.au   1\n",
      "203                      http://www.wowfm.org   1\n",
      "204            http://www.zerellawines.com.au   1\n",
      "\n",
      "[205 rows x 2 columns]\n"
     ]
    }
   ],
   "source": [
    "# looked into power, shop, street\n",
    "\n",
    "query3_6 = '''select distinct value, count(value)\n",
    "            from ways_tags\n",
    "            where key = 'website'\n",
    "            group by value\n",
    "            order by count(value) desc\n",
    "            '''\n",
    "cur.execute(query3_6)\n",
    "results = cur.fetchall()\n",
    "\n",
    "df = pd.DataFrame(results)\n",
    "\n",
    "print (df)"
   ]
  },
  {
   "cell_type": "markdown",
   "metadata": {},
   "source": [
    "### Besides 'Website' key value, there are plenty of other key values that could use a programmatic fix for the data entry. Example 'Phone', 'City', 'Opening Hours', and 'Street' all have potential to programmatically clean and standardize the data entries.\n",
    "\n",
    "### Exploring the data for most popular street name"
   ]
  },
  {
   "cell_type": "code",
   "execution_count": 44,
   "metadata": {
    "scrolled": true
   },
   "outputs": [
    {
     "name": "stdout",
     "output_type": "stream",
     "text": [
      "                                0     1\n",
      "0                  data.sa.gov.au  2918\n",
      "1                          survey  1171\n",
      "2                 main_north_road   238\n",
      "3                      south_road   128\n",
      "4             grand_junction_road   119\n",
      "5                 main_south_road   100\n",
      "6             port_wakefield_road    91\n",
      "7                       esplanade    90\n",
      "8                 commercial_road    85\n",
      "9                     marion_road    83\n",
      "10                 gregory's_1949    79\n",
      "11                   heysen_trail    79\n",
      "12                adelaide_o-bahn    72\n",
      "13                   seaford_line    71\n",
      "14                  military_road    68\n",
      "15         mawson_lakes_boulevard    66\n",
      "16                local_knowledge    65\n",
      "17              tapleys_hill_road    64\n",
      "18                grand_boulevard    63\n",
      "19             northern_connector    63\n",
      "20                  yorktown_road    61\n",
      "21              golden_grove_road    60\n",
      "22              winchester_street    60\n",
      "23                   park_terrace    59\n",
      "24          south_eastern_freeway    59\n",
      "25              mount_barker_road    58\n",
      "26                  george_street    57\n",
      "27                  anzac_highway    56\n",
      "28                   martins_road    56\n",
      "29              salisbury_highway    56\n",
      "...                           ...   ...\n",
      "21838                 zante_grove     1\n",
      "21839                  zara_court     1\n",
      "21840                zariba_court     1\n",
      "21841              zealand_street     1\n",
      "21842  zebra_tree_lobbing_service     1\n",
      "21843                   zed_court     1\n",
      "21844               zeehan_street     1\n",
      "21845              zeevalk_avenue     1\n",
      "21846                zelda_avenue     1\n",
      "21847                 zelda_close     1\n",
      "21848               zenith_avenue     1\n",
      "21849                zenith_court     1\n",
      "21850            zenobia_crescent     1\n",
      "21851                zephyr_court     1\n",
      "21852                zephyr_grove     1\n",
      "21853              zephyr_reserve     1\n",
      "21854                zerella_road     1\n",
      "21855               zerella_wines     1\n",
      "21856                  zeta_court     1\n",
      "21857                 zeta_street     1\n",
      "21858                  zeus_court     1\n",
      "21859                     zhu-lin     1\n",
      "21860               zig_zag_climb     1\n",
      "21861            zinfandel_avenue     1\n",
      "21862                zinnia_court     1\n",
      "21863             zircon_crescent     1\n",
      "21864               zither_street     1\n",
      "21865                   zoe_court     1\n",
      "21866                 zollo_drive     1\n",
      "21867                 zonta_place     1\n",
      "\n",
      "[21868 rows x 2 columns]\n"
     ]
    }
   ],
   "source": [
    "query3_8 = '''select distinct value, count(value)\n",
    "            from ways_tags\n",
    "            where key = 'name'\n",
    "            group by value\n",
    "            order by count(value) desc;'''\n",
    "cur.execute(query3_8)\n",
    "results = cur.fetchall()\n",
    "\n",
    "df = pd.DataFrame(results)\n",
    "print (df)"
   ]
  },
  {
   "cell_type": "markdown",
   "metadata": {},
   "source": [
    "## Issue 4: No organization to capitalization, spaces, or structure of strings in all databases\n",
    "## Solution: programmatically clean and standardize all strings so they are lower case and underscores replace any spaces\n",
    "### After fixing the largest issues noticed, I will further explore the data to learn more about the city and find out the most interesting things about Adelaide within our dataset"
   ]
  },
  {
   "cell_type": "code",
   "execution_count": 33,
   "metadata": {
    "scrolled": true
   },
   "outputs": [
    {
     "name": "stdout",
     "output_type": "stream",
     "text": [
      "                        0    1\n",
      "0            torrens_road  171\n",
      "1     grand_junction_road   79\n",
      "2             may_terrace   76\n",
      "3             ward_street   69\n",
      "4            addison_road   68\n",
      "5     king_william_street   63\n",
      "6            jetty_street   62\n",
      "7             rose_street   61\n",
      "8        margaret_terrace   57\n",
      "9           archer_street   56\n",
      "10         russell_street   55\n",
      "11         brougham_place   54\n",
      "12              esplanade   54\n",
      "13             dew_street   50\n",
      "14          military_road   49\n",
      "15         semaphore_road   48\n",
      "16         jenkins_street   45\n",
      "17         holland_street   42\n",
      "18      ballantyne_street   41\n",
      "19          george_street   41\n",
      "20            nash_street   40\n",
      "21         gliddon_street   35\n",
      "22           gray_terrace   35\n",
      "23          walter_street   35\n",
      "24          edward_street   34\n",
      "25         kintore_street   33\n",
      "26       mcgregor_terrace   32\n",
      "27             south_road   32\n",
      "28      westmoreland_road   32\n",
      "29      eldridge_crescent   31\n",
      "..                    ...  ...\n",
      "524         second_avenue    1\n",
      "525        serafino_drive    1\n",
      "526           sheoak_road    1\n",
      "527       shillabeer_road    1\n",
      "528       sinclair_street    1\n",
      "529      sportsmans_drive    1\n",
      "530        st_ann's_place    1\n",
      "531           star_avenue    1\n",
      "532    strangways_terrace    1\n",
      "533         surrey_street    1\n",
      "534          susan_street    1\n",
      "535          tenth_avenue    1\n",
      "536       terminus_street    1\n",
      "537          the_crescent    1\n",
      "538          third_avenue    1\n",
      "539          thomas_place    1\n",
      "540    tower_street_south    1\n",
      "541            unley_road    1\n",
      "542        vassall_street    1\n",
      "543      victoria_terrace    1\n",
      "544      wakefield_street    1\n",
      "545          walsh_street    1\n",
      "546    war_memorial_drive    1\n",
      "547           ware_street    1\n",
      "548        warracowie_way    1\n",
      "549          webbe_street    1\n",
      "550  west_lakes_boulevard    1\n",
      "551        wingfield_road    1\n",
      "552          wride_street    1\n",
      "553          wyatt_street    1\n",
      "\n",
      "[554 rows x 2 columns]\n"
     ]
    }
   ],
   "source": [
    "query3_7 = '''select distinct value, count(value)\n",
    "            from ways_tags\n",
    "            where key = 'street'\n",
    "            group by value\n",
    "            order by count(value) desc\n",
    "            '''\n",
    "cur.execute(query3_7)\n",
    "results = cur.fetchall()\n",
    "\n",
    "df = pd.DataFrame(results)\n",
    "\n",
    "print (df)"
   ]
  },
  {
   "cell_type": "markdown",
   "metadata": {},
   "source": [
    "# Insights about data\n",
    "\n",
    "### Most popular node details about way_key 'building' are entrances & the amenity 'toilets'."
   ]
  },
  {
   "cell_type": "code",
   "execution_count": 37,
   "metadata": {},
   "outputs": [
    {
     "name": "stdout",
     "output_type": "stream",
     "text": [
      "                  0                                1   2\n",
      "0          entrance                              yes  65\n",
      "1           amenity                          toilets  24\n",
      "2              name  stop_27_diagonal_rd_-_west_side  19\n",
      "3            source                   adelaide_metro  13\n",
      "4          building                         entrance  10\n",
      "5          operator                   australia_post   8\n",
      "6            access                              yes   6\n",
      "7           highway                         bus_stop   6\n",
      "8             level                                0   6\n",
      "9        wheelchair                              yes   5\n",
      "10             type                             dome   4\n",
      "11         man_made                     surveillance   3\n",
      "12             shop                           tattoo   3\n",
      "13          stop_id                           100095   3\n",
      "14              atm                              yes   2\n",
      "15          barrier                             gate   2\n",
      "16            brand                          westpac   2\n",
      "17           street                st_vincent_street   2\n",
      "18     surveillance                          outdoor   2\n",
      "19          bicycle                              yes   1\n",
      "20          brewery                 coopers_pale_ale   1\n",
      "21             city                        rosewater   1\n",
      "22          country                               au   1\n",
      "23             foot                              yes   1\n",
      "24      housenumber                                1   1\n",
      "25  internet_access                               no   1\n",
      "26          leisure                   nature_reserve   1\n",
      "27           noexit                              yes   1\n",
      "28         postcode                             5013   1\n",
      "29          tourism                          artwork   1\n",
      "30  traffic_calming                             hump   1\n"
     ]
    }
   ],
   "source": [
    "query4_0 = '''select nodes_key, nodes_value, count(nodes_key)\n",
    "            from master\n",
    "            where ways_key = 'building'\n",
    "            group by nodes_key\n",
    "            order by count(nodes_value) desc\n",
    "            '''\n",
    "cur.execute(query4_0)\n",
    "results = cur.fetchall()\n",
    "\n",
    "df = pd.DataFrame(results)\n",
    "\n",
    "print (df)"
   ]
  },
  {
   "cell_type": "markdown",
   "metadata": {},
   "source": [
    "### Most popular 'Natural' in Adelaide are trees. This is true to my memory as much outside of the city is dry and hot desert or beach."
   ]
  },
  {
   "cell_type": "code",
   "execution_count": 38,
   "metadata": {},
   "outputs": [
    {
     "name": "stdout",
     "output_type": "stream",
     "text": [
      "               0     1\n",
      "0           tree  3878\n",
      "1           peak    25\n",
      "2            bay     2\n",
      "3  cave_entrance     2\n",
      "4         survey     2\n",
      "5          beach     1\n"
     ]
    }
   ],
   "source": [
    "query4_1 = '''select distinct value, count(value)\n",
    "            from nodes_tags\n",
    "            where key = 'natural'\n",
    "            group by value\n",
    "            order by count(value) desc\n",
    "            '''\n",
    "cur.execute(query4_1)\n",
    "results = cur.fetchall()\n",
    "\n",
    "df = pd.DataFrame(results)\n",
    "\n",
    "print (df)"
   ]
  },
  {
   "cell_type": "markdown",
   "metadata": {},
   "source": [
    "### Most popular religion in Adelaide is Christian"
   ]
  },
  {
   "cell_type": "code",
   "execution_count": 41,
   "metadata": {},
   "outputs": [
    {
     "name": "stdout",
     "output_type": "stream",
     "text": [
      "           0   1\n",
      "0  christian  89\n"
     ]
    }
   ],
   "source": [
    "query4_2 = '''\n",
    "            select distinct value, count(value)\n",
    "            from ways_tags\n",
    "            where key = 'religion'\n",
    "        '''\n",
    "cur.execute(query4_2)\n",
    "results = cur.fetchall()\n",
    "\n",
    "df = pd.DataFrame(results)\n",
    "print (df)"
   ]
  },
  {
   "cell_type": "markdown",
   "metadata": {},
   "source": [
    "### Most popular amenities in Adelaide are benchs and food places (restaurants, fast food, and cafes)"
   ]
  },
  {
   "cell_type": "code",
   "execution_count": 42,
   "metadata": {
    "scrolled": true
   },
   "outputs": [
    {
     "name": "stdout",
     "output_type": "stream",
     "text": [
      "          0                        1     2\n",
      "0   amenity                    bench  1845\n",
      "1   amenity                fast_food   304\n",
      "2   amenity               restaurant   288\n",
      "3   amenity                  toilets   253\n",
      "4   amenity                     cafe   240\n",
      "5   amenity           drinking_water   203\n",
      "6   amenity                  parking   178\n",
      "7   amenity                 post_box   147\n",
      "8   amenity                      pub   125\n",
      "9   amenity                   survey   103\n",
      "10  amenity                      bbq    93\n",
      "11  amenity                     bank    91\n",
      "12  amenity                telephone    91\n",
      "13  amenity                     fuel    88\n",
      "14  amenity                 pharmacy    86\n",
      "15  amenity                  shelter    84\n",
      "16  amenity             waste_basket    84\n",
      "17  amenity         place_of_worship    81\n",
      "18  amenity              post_office    64\n",
      "19  amenity                      atm    57\n",
      "20  amenity                   school    50\n",
      "21  amenity                  doctors    48\n",
      "22  amenity          bicycle_parking    43\n",
      "23  amenity                  dentist    32\n",
      "24  amenity             fire_station    28\n",
      "25  amenity                      bar    22\n",
      "26  amenity                  library    21\n",
      "27  amenity               veterinary    18\n",
      "28  amenity              bus_station    17\n",
      "29  amenity                 car_wash    16\n",
      "..      ...                      ...   ...\n",
      "56  amenity               scout_hall     2\n",
      "57  amenity          social_facility     2\n",
      "58  amenity                   winery     2\n",
      "59  amenity          animal_boarding     1\n",
      "60  amenity                  brothel     1\n",
      "61  amenity         bureau_de_change     1\n",
      "62  amenity         charging_station     1\n",
      "63  amenity             chiropractor     1\n",
      "64  amenity                    clock     1\n",
      "65  amenity  device_charging_station     1\n",
      "66  amenity                     dojo     1\n",
      "67  amenity            ferry_tourist     1\n",
      "68  amenity                first_aid     1\n",
      "69  amenity                 flagpole     1\n",
      "70  amenity             funeral_home     1\n",
      "71  amenity               grave_yard     1\n",
      "72  amenity            hunting_stand     1\n",
      "73  amenity               newsagency     1\n",
      "74  amenity            parking_space     1\n",
      "75  amenity             picnic_table     1\n",
      "76  amenity                   prison     1\n",
      "77  amenity           restaurant;bar     1\n",
      "78  amenity                scrapyard     1\n",
      "79  amenity                stripclub     1\n",
      "80  amenity                   studio     1\n",
      "81  amenity                  surgery     1\n",
      "82  amenity                   swings     1\n",
      "83  amenity                     tank     1\n",
      "84  amenity               university     1\n",
      "85  amenity           waste_disposal     1\n",
      "\n",
      "[86 rows x 3 columns]\n"
     ]
    }
   ],
   "source": [
    "query4_3 = '''select distinct key, value, count(value) as num_value\n",
    "            from nodes_tags\n",
    "            where key = 'amenity'\n",
    "            group by value\n",
    "            order by num_value desc;'''\n",
    "cur.execute(query4_3)\n",
    "results = cur.fetchall()\n",
    "\n",
    "df = pd.DataFrame(results)\n",
    "print (df)"
   ]
  },
  {
   "cell_type": "markdown",
   "metadata": {},
   "source": [
    "## Conclusion\n",
    "\n",
    "### After exploring the data, it is clear there are plenty of inconsistencies and work to be done to make this dataset more complete and standardized. I have been able to take the first couple steps in cleaning the data and giving structure to the dataset. Much of the work left to be done is specific to each key's dataset. It could be useful to have a user watch over IDs section of the data since many of the way ids do not match up to the node ids. I really enjoyed getting to know the city of Adelaide again from a different perspective."
   ]
  }
 ],
 "metadata": {
  "kernelspec": {
   "display_name": "Python 3",
   "language": "python",
   "name": "python3"
  },
  "language_info": {
   "codemirror_mode": {
    "name": "ipython",
    "version": 3
   },
   "file_extension": ".py",
   "mimetype": "text/x-python",
   "name": "python",
   "nbconvert_exporter": "python",
   "pygments_lexer": "ipython3",
   "version": "3.4.5"
  }
 },
 "nbformat": 4,
 "nbformat_minor": 2
}
