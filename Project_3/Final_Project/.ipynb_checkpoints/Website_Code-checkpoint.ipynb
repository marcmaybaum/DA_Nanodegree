{
 "cells": [
  {
   "cell_type": "code",
   "execution_count": 403,
   "metadata": {},
   "outputs": [],
   "source": [
    "def clean_website(string):\n",
    "#     string = clean_value(string)\n",
    "    \n",
    "#     if 'http://www' not in string and 'https://www' not in string:\n",
    "#         string = 'http://www' + string\n",
    "    \n",
    "    string_list = string.split('.')\n",
    "    count = 0\n",
    "    \n",
    "    print string_list\n",
    "    \n",
    "    for entry in string_list:\n",
    "        if 'www' in entry:\n",
    "            string_list[count] = 'http://www'\n",
    "        elif 'http' in entry:\n",
    "            http_alone = entry.find('//') + 2\n",
    "#             print entry[0:http_alone]\n",
    "#             print entry[http_alone:]\n",
    "#             print entry[0:http_alone] + 'www.' + entry[http_alone:]\n",
    "            string_list[count] = entry[0:http_alone] + 'www.' + entry[http_alone:]\n",
    "#             string_list[count] = entry[0:http_alone] + 'www.'\n",
    "#             string_list[count] = 'http://www'\n",
    "#             string_list[count] = 'http://www'\n",
    "        elif '/' in entry:\n",
    "            cut_string = entry.find('/')\n",
    "            string_list[count] = entry[0:cut_string]\n",
    "        count += 1\n",
    "    \n",
    "    string_join = '.'.join(string_list)\n",
    "    string_list = string_join.split('.')\n",
    "#     print len(string_list)\n",
    "#     print string_list\n",
    "    \n",
    "    if len(string_list) > 3:\n",
    "        if string_list[3] == 'au':\n",
    "            string_list = string_list[:4]\n",
    "        elif string_list[4] == 'au':\n",
    "            string_list = string_list[:5]\n",
    "    elif len(string_list) <= 3:\n",
    "        if 'http://www' not in string_list:\n",
    "            string_list.insert(0,'http://www')\n",
    "    else:\n",
    "        string_list = string_list[:3]\n",
    "\n",
    "    \n",
    "#     print string_list\n",
    "\n",
    "    return '.'.join(string_list)"
   ]
  },
  {
   "cell_type": "code",
   "execution_count": 404,
   "metadata": {},
   "outputs": [
    {
     "name": "stdout",
     "output_type": "stream",
     "text": [
      "['www', 'powerpower', 'com', 'au', 'htp/kjfkjfbkbf/afbkfea/fbfbjkjkef']\n",
      "5\n",
      "['http://www', 'powerpower', 'com', 'au', 'htp']\n",
      "['http://www', 'powerpower', 'com', 'au']\n",
      "http://www.powerpower.com.au\n"
     ]
    }
   ],
   "source": [
    "print clean_website('www.powerpower.com.au.htp/kjfkjfbkbf/afbkfea/fbfbjkjkef')"
   ]
  },
  {
   "cell_type": "code",
   "execution_count": 405,
   "metadata": {},
   "outputs": [
    {
     "name": "stdout",
     "output_type": "stream",
     "text": [
      "['www', 'powerl', 'com', 'st', 'au', 'gggg', 'hhhhh', '/sjklnflsjnfjn']\n",
      "8\n",
      "['http://www', 'powerl', 'com', 'st', 'au', 'gggg', 'hhhhh', '']\n",
      "['http://www', 'powerl', 'com', 'st', 'au']\n",
      "http://www.powerl.com.st.au\n"
     ]
    }
   ],
   "source": [
    "print clean_website('www.powerl.com.st.au.gggg.hhhhh./sjklnflsjnfjn')"
   ]
  },
  {
   "cell_type": "code",
   "execution_count": 406,
   "metadata": {},
   "outputs": [
    {
     "name": "stdout",
     "output_type": "stream",
     "text": [
      "['http://www', 'powerl', 'com', 'st', 'au', 'gggg', 'hhhhh', '/sjklnflsjnfjn']\n",
      "8\n",
      "['http://www', 'powerl', 'com', 'st', 'au', 'gggg', 'hhhhh', '']\n",
      "['http://www', 'powerl', 'com', 'st', 'au']\n",
      "http://www.powerl.com.st.au\n"
     ]
    }
   ],
   "source": [
    "print clean_website('http://www.powerl.com.st.au.gggg.hhhhh./sjklnflsjnfjn')"
   ]
  },
  {
   "cell_type": "code",
   "execution_count": 407,
   "metadata": {},
   "outputs": [
    {
     "name": "stdout",
     "output_type": "stream",
     "text": [
      "['http://fun', 'com', 'au']\n",
      "4\n",
      "['http://www', 'fun', 'com', 'au']\n",
      "['http://www', 'fun', 'com', 'au']\n",
      "http://www.fun.com.au\n"
     ]
    }
   ],
   "source": [
    "print clean_website('http://fun.com.au')"
   ]
  },
  {
   "cell_type": "code",
   "execution_count": 408,
   "metadata": {},
   "outputs": [
    {
     "name": "stdout",
     "output_type": "stream",
     "text": [
      "['fun', 'com']\n",
      "2\n",
      "['fun', 'com']\n",
      "['http://www', 'fun', 'com']\n",
      "http://www.fun.com\n"
     ]
    }
   ],
   "source": [
    "print clean_website('fun.com')"
   ]
  },
  {
   "cell_type": "code",
   "execution_count": 409,
   "metadata": {},
   "outputs": [
    {
     "name": "stdout",
     "output_type": "stream",
     "text": [
      "['fun', 'com', 'au']\n",
      "3\n",
      "['fun', 'com', 'au']\n",
      "['http://www', 'fun', 'com', 'au']\n",
      "http://www.fun.com.au\n"
     ]
    }
   ],
   "source": [
    "print clean_website('fun.com.au')"
   ]
  },
  {
   "cell_type": "code",
   "execution_count": 410,
   "metadata": {},
   "outputs": [
    {
     "name": "stdout",
     "output_type": "stream",
     "text": [
      "['http://www', 'fun', 'com']\n",
      "3\n",
      "['http://www', 'fun', 'com']\n",
      "['http://www', 'fun', 'com']\n",
      "http://www.fun.com\n"
     ]
    }
   ],
   "source": [
    "print clean_website('http://www.fun.com')"
   ]
  },
  {
   "cell_type": "code",
   "execution_count": 411,
   "metadata": {},
   "outputs": [
    {
     "name": "stdout",
     "output_type": "stream",
     "text": [
      "['https://www', 'fun', 'com', 'au', 'fudkjfjbfjb/oflbjfb']\n",
      "5\n",
      "['http://www', 'fun', 'com', 'au', 'fudkjfjbfjb']\n",
      "['http://www', 'fun', 'com', 'au']\n",
      "http://www.fun.com.au\n"
     ]
    }
   ],
   "source": [
    "print clean_website('https://www.fun.com.au.fudkjfjbfjb/oflbjfb')"
   ]
  },
  {
   "cell_type": "code",
   "execution_count": null,
   "metadata": {
    "collapsed": true
   },
   "outputs": [],
   "source": []
  },
  {
   "cell_type": "code",
   "execution_count": null,
   "metadata": {
    "collapsed": true
   },
   "outputs": [],
   "source": []
  }
 ],
 "metadata": {
  "kernelspec": {
   "display_name": "Python 2",
   "language": "python",
   "name": "python2"
  },
  "language_info": {
   "codemirror_mode": {
    "name": "ipython",
    "version": 2
   },
   "file_extension": ".py",
   "mimetype": "text/x-python",
   "name": "python",
   "nbconvert_exporter": "python",
   "pygments_lexer": "ipython2",
   "version": "2.7.13"
  }
 },
 "nbformat": 4,
 "nbformat_minor": 2
}
