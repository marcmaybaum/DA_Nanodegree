{
 "cells": [
  {
   "cell_type": "markdown",
   "metadata": {},
   "source": [
    "### SQL for Data & Analysis\n",
    "\n",
    "#### SQL is used for managing, querying, and populating databases\n",
    "#### Relational Concepts, SQL Queries, and More Advanced SQL is what we will be reviewing over the next 3 lessons\n",
    "\n",
    "#### Will need to define schemas, import data, and perform querys on the data for our project"
   ]
  },
  {
   "cell_type": "markdown",
   "metadata": {},
   "source": [
    "### What's a database anyway?\n",
    "\n",
    "#### Relational databases allow for: persistent storage, safe concurrent access by multiple programs/users, flexible query language with aggregation and join operations, constraints (rules for protecting consistency of your data)\n",
    "\n",
    "#### In databases, everything is saved as tables. At the heart of relational databases is how different pieces of data relate to each other."
   ]
  },
  {
   "cell_type": "markdown",
   "metadata": {},
   "source": [
    "### Data types & meanings are important to databases to keep consistency"
   ]
  },
  {
   "cell_type": "markdown",
   "metadata": {},
   "source": [
    "### Aggregations in SQL\n",
    "\n",
    "#### Count = how many rows?\n",
    "#### Avg = what's the average\n",
    "#### Max = what's the greatest\n",
    "#### Min = what's the least\n",
    "#### Sum = what's the sum"
   ]
  },
  {
   "cell_type": "markdown",
   "metadata": {},
   "source": [
    "### Table Structure"
   ]
  },
  {
   "cell_type": "code",
   "execution_count": null,
   "metadata": {
    "collapsed": true
   },
   "outputs": [],
   "source": [
    "# column name\n",
    "select food\n",
    "# table name\n",
    "from diet\n",
    "# condition of table\n",
    "where species = 'orangutan'"
   ]
  },
  {
   "cell_type": "markdown",
   "metadata": {},
   "source": [
    "### How queries happen\n",
    "\n",
    "#### your code -> query -> DB server -> result -> your code\n",
    "#### the above code returns a list of food which includes 'plants' & 'insects'"
   ]
  },
  {
   "cell_type": "markdown",
   "metadata": {
    "collapsed": true
   },
   "source": [
    "### Joins happen with tables of similar values"
   ]
  },
  {
   "cell_type": "markdown",
   "metadata": {},
   "source": [
    "### Uniqueness and Keys\n",
    "\n",
    "#### Think of people with the same name - unique, but possible for duplication (ex. Jen Smith)\n",
    "\n",
    "#### A column in a table that identifies the rows in that table is known as a 'primary key'\n",
    "\n",
    "### Joining Tables Example"
   ]
  },
  {
   "cell_type": "code",
   "execution_count": null,
   "metadata": {
    "collapsed": true
   },
   "outputs": [],
   "source": [
    "select animals.name, animals.species, diet.food\n",
    "from animals join diet on animals.species = diet.species\n",
    "where food = 'fish'"
   ]
  },
  {
   "cell_type": "markdown",
   "metadata": {},
   "source": [
    "### Quiz 1"
   ]
  },
  {
   "cell_type": "code",
   "execution_count": null,
   "metadata": {
    "collapsed": true
   },
   "outputs": [],
   "source": [
    "'''\n",
    "\n",
    "Welcome to your first Problem Set!  \n",
    "\n",
    "Problem Sets are here to get you set up and ready to start doing\n",
    "amazing things using SQL.\n",
    "\n",
    "In this exercise, there are a bunch of queries for you to try out. \n",
    "Feel free to experiment by changing existing queries or writing one all on your own!\n",
    "\n",
    "Let's jump right in...\n",
    "\n",
    "Hit Test Run to see the result of your first query!\n",
    "\n",
    "'''\n",
    "\n",
    "# QUERY = \"SELECT Composer, Name FROM Track WHERE Composer='Van Halen';\"\n",
    "\n",
    "'''\n",
    "\n",
    "NICE WORK!  Were you able to see the output below?  That's your data :)\n",
    "\n",
    "Throughout the problem sets in this course you'll be using the Chinook Database.\n",
    "\n",
    "This database represents a music store you're going to query, explore \n",
    "and eventually build all on your own!\n",
    "\n",
    "SQL is all about answering questions driven by your own curiosity and \n",
    "excitement about the data you've collected.  \n",
    "\n",
    "Let's ask our database another question!\n",
    "\n",
    "'''\n",
    "\n",
    "'''QUESTION:Which songs in this dataset were written by AC/DC?'''\n",
    "\n",
    "# <-- Remove this hashtag from before any QUERY to 'uncomment' it.\n",
    "# Next hit Test Run to see the result. \n",
    "\n",
    "# QUERY = \"SELECT Name FROM Track WHERE Composer='AC/DC';\"\n",
    "\n",
    "'''Do you think that query did a good job answering the question?'''\n",
    "\n",
    "\n",
    "'''\n",
    "\n",
    "You'll notice the SQL closely resembles spoken language and it's not \n",
    "too hard to figure out what a query is asking.  \n",
    "\n",
    "See if you can figure out what the following questions are hoping to find!\n",
    "\n",
    "'''\n",
    "\n",
    "\n",
    "'''QUESTION: How long would it take to listen to all the songs in our \n",
    "dataset that were written by Johannes Sebastian Bach?'''\n",
    "\n",
    "#QUERY = \"SELECT Composer, sum(Milliseconds) FROM Track WHERE Composer='Johann Sebastian Bach';\"\n",
    "\n",
    "\n",
    "'''QUESTION: Fill in the question you think could be answered by the following query.'''\n",
    "\n",
    "#QUERY = \"SELECT FirstName, LastName FROM Customer WHERE FirstName='Phil';\"\n",
    "\n",
    "'''Did this query find an employee named Phil?''' \n",
    "\n",
    "\n",
    "'''QUESTION: Fill in the question you think could be answered by the following query.'''\n",
    "\n",
    "#QUERY = \"SELECT FirstName, LastName, Title, Birthdate FROM Employee;\"\n",
    "\n",
    "\n",
    "'''\n",
    "Did running your queries return the type of results you might have expected?  I hope so :)\n",
    "\n",
    "Let's try something a little different...\n",
    "\n",
    "Can you change the following query so that it better answers the given question?\n",
    "\n",
    "QUESTION: Which tracks in our dataset were written by Jimi Hendrix?'''\n",
    "\n",
    "# QUERY = \"SELECT Composer, Name FROM Track WHERE Composer = 'Jimi Hendrix';\"\n",
    "\n",
    "'''\n",
    "\n",
    "Were you able to get a list of songs by Jimi Hendrix?\n",
    "\n",
    "A great way to start building your own queries is by knowing which  \n",
    "tables and columns are held in your database.\n",
    "\n",
    "One way to learn this is by setting up your own local environment, \n",
    "and that's what you'll be doing by the end of this problem set!\n",
    "\n",
    "'''\n"
   ]
  },
  {
   "cell_type": "markdown",
   "metadata": {},
   "source": [
    "### Quiz 2"
   ]
  },
  {
   "cell_type": "code",
   "execution_count": 1,
   "metadata": {
    "collapsed": true
   },
   "outputs": [],
   "source": [
    "# in this quiz, we checked to see if sqlite3 was running \n",
    "# in terminal (it was) and connected it to a database"
   ]
  },
  {
   "cell_type": "markdown",
   "metadata": {},
   "source": [
    "### Quiz 3"
   ]
  },
  {
   "cell_type": "code",
   "execution_count": 4,
   "metadata": {
    "collapsed": false
   },
   "outputs": [
    {
     "ename": "SyntaxError",
     "evalue": "invalid syntax (<ipython-input-4-aec6a5197c1a>, line 7)",
     "output_type": "error",
     "traceback": [
      "\u001b[0;36m  File \u001b[0;32m\"<ipython-input-4-aec6a5197c1a>\"\u001b[0;36m, line \u001b[0;32m7\u001b[0m\n\u001b[0;31m    sqlite> .schema Album\u001b[0m\n\u001b[0m            ^\u001b[0m\n\u001b[0;31mSyntaxError\u001b[0m\u001b[0;31m:\u001b[0m invalid syntax\n"
     ]
    }
   ],
   "source": [
    "# getting used to syntax in terminal to control SQLite\n",
    "\n",
    "# .tables returns all tables in database\n",
    "# .schema (table_name) returns the table name, column names, datatypes, primary keys, and foreign keys\n",
    "# example below\n",
    "\n",
    "sqlite> .schema Album\n",
    "\n",
    "CREATE TABLE [Album]\n",
    "(\n",
    "[AlbumId] INTEGER  NOT NULL,\n",
    "[Title] NVARCHAR(160)  NOT NULL,\n",
    "[ArtistId] INTEGER  NOT NULL,\n",
    "CONSTRAINT [PK_Album] PRIMARY KEY  ([AlbumId]),\n",
    "FOREIGN KEY ([ArtistId]) REFERENCES [Artist] ([ArtistId]) \n",
    "    ON DELETE NO ACTION ON UPDATE NO ACTION\n",
    ");\n",
    "CREATE UNIQUE INDEX [IPK_Album] ON [Album]([AlbumId]);\n",
    "CREATE INDEX [IFK_AlbumArtistId] ON [Album] ([ArtistId]);\n",
    "\n",
    "# What it means?\n",
    "\n",
    "CREATE TABLE [Album] <-- This is the table name, Album.\n",
    "\n",
    "[AlbumId] <---These are your column names\n",
    "[Title]       This table has 3.\n",
    "[ArtistId]    AlbumId, Title, ArtistId\n",
    "\n",
    "            INTEGER,       <---Next are the datatypes\n",
    "            NVARCHAR(160),     Each column needs a datatype\n",
    "            INTEGER,           You learned these last lesson!         \n",
    "\n",
    "# The rest of the output seen are various CONSTRAINTS place in the database\n",
    "# Databases have primary keys, foreign keys, and NULL value constraints\n",
    "\n",
    "# If you don't specify the table in the .schema command, it will return the schema for all tables in the database\n",
    "\n",
    "# Example queries\n",
    "\n",
    "SELECT * FROM Invoice;\n",
    "\n",
    "SELECT * FROM Employee;\n",
    "\n",
    "# make sure to include semi-colon at end! otherwise sql will continue to run forever"
   ]
  },
  {
   "cell_type": "markdown",
   "metadata": {},
   "source": [
    "## Database we will be using through lessons\n",
    "\n",
    "https://chinookdatabase.codeplex.com/"
   ]
  }
 ],
 "metadata": {
  "kernelspec": {
   "display_name": "Python [conda env:py36]",
   "language": "python",
   "name": "conda-env-py36-py"
  },
  "language_info": {
   "codemirror_mode": {
    "name": "ipython",
    "version": 3
   },
   "file_extension": ".py",
   "mimetype": "text/x-python",
   "name": "python",
   "nbconvert_exporter": "python",
   "pygments_lexer": "ipython3",
   "version": "3.6.1"
  }
 },
 "nbformat": 4,
 "nbformat_minor": 2
}
