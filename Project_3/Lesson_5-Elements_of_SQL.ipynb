{
 "cells": [
  {
   "cell_type": "markdown",
   "metadata": {},
   "source": [
    "### Lots of data types in SQL\n",
    "#### we will only use a few: text (a string of any length, close to str() in python), integer (like python's int()), and date(a calendar date)\n",
    "#### important note: always use single quote for text and dates. a date without a single quote will interpret the value as an integer expression\n",
    "\n",
    "### full list of SQL data types below\n",
    "https://www.postgresql.org/docs/9.4/static/datatype.html"
   ]
  },
  {
   "cell_type": "markdown",
   "metadata": {},
   "source": [
    "### SELECT WHERE STATEMENTS\n",
    "\n",
    "#### WHERE allows conditions on what you are selecting. Boolean operators 'and', 'or', & 'not' are all usable in SQL"
   ]
  },
  {
   "cell_type": "code",
   "execution_count": null,
   "metadata": {
    "collapsed": true
   },
   "outputs": [],
   "source": [
    "# example statement\n",
    "\n",
    "SELECT NAME\n",
    "FROM ANIMALS\n",
    "WHERE NOT SPECIES = 'gorilla' AND NOT name = 'Max';\n",
    "\n",
    "# alternatively, you can also write above statement as\n",
    "\n",
    "SELECT NAME\n",
    "FROM ANIMALS\n",
    "WHERE NOT(species = 'gorilla' OE name = 'Max');\n",
    "\n",
    "# or, last alternative\n",
    "\n",
    "SELECT NAME\n",
    "FROM ANIMALS\n",
    "WHERE species != 'gorilla' AND name != 'Max';"
   ]
  },
  {
   "cell_type": "markdown",
   "metadata": {},
   "source": [
    "### SQL can do comparisons outside of not, and, or\n",
    "#### = < > <= >= != are all capable in SQL"
   ]
  },
  {
   "cell_type": "code",
   "execution_count": null,
   "metadata": {
    "collapsed": true
   },
   "outputs": [],
   "source": [
    "# example statement\n",
    "\n",
    "SELECT name \n",
    "FROM animals\n",
    "WHERE species = 'llama' AND \n",
    "birthdate <= '1998-12-31' AND \n",
    "birthdate >= '1995-01-01';"
   ]
  },
  {
   "cell_type": "markdown",
   "metadata": {},
   "source": [
    "### The one thing SQL is kind of terrible at is returning lists of names of tables in databases and names of columns of tables"
   ]
  },
  {
   "cell_type": "code",
   "execution_count": 2,
   "metadata": {
    "collapsed": true
   },
   "outputs": [],
   "source": [
    "# each different SQL tool has different ways to perform this list\n",
    "\n",
    "# PostgreSQL: \\dt and \\d (tablename)\n",
    "# MySQL: show tables and describe (tablename)\n",
    "# SQLite: .tables and .schema (tablename)\n",
    "\n",
    "# parentheses are not needed in above syntax"
   ]
  },
  {
   "cell_type": "markdown",
   "metadata": {},
   "source": [
    "Reference\n",
    "For reference, here's a list of all the tables in the zoo database:\n",
    "\n",
    "animals\n",
    "This table lists individual animals in the zoo. Each animal has only one row. There may be multiple animals with the same name, or even multiple animals with the same name and species.\n",
    "name — the animal's name (example: 'George')\n",
    "species — the animal's species (example: 'gorilla')\n",
    "birthdate — the animal's date of birth (example: '1998-05-18')\n",
    "diet\n",
    "This table matches up species with the foods they eat. Every species in the zoo eats at least one sort of food, and many eat more than one. If a species eats more than one food, there will be more than one row for that species.\n",
    "species — the name of a species (example: 'hyena')\n",
    "food — the name of a food that species eats (example: 'meat')\n",
    "taxonomy\n",
    "This table gives the (partial) biological taxonomic names for each species in the zoo. It can be used to find which species are more closely related to each other evolutionarily.\n",
    "name — the common name of the species (e.g. 'jackal')\n",
    "species — the taxonomic species name (e.g. 'aureus')\n",
    "genus — the taxonomic genus name (e.g. 'Canis')\n",
    "family — the taxonomic family name (e.g. 'Canidae')\n",
    "t_order — the taxonomic order name (e.g. 'Carnivora')\n",
    "If you've never heard of this classification, don't worry about it; the details won't be necessary for this course. But if you're curious, Wikipedia articles Taxonomy and Biological classification may help.\n",
    "\n",
    "ordernames\n",
    "This table gives the common names for each of the taxonomic orders in the taxonomy table.\n",
    "t_order — the taxonomic order name (e.g. 'Cetacea')\n",
    "name — the common name (e.g. 'whales and dolphins')\n",
    "The SQL for it\n",
    "And here are the SQL commands that were used to create those tables. We won't cover the create table command until lesson 4, but it may be interesting to look at:\n",
    "\n",
    "create table animals (  \n",
    "       name text,\n",
    "       species text,\n",
    "       birthdate date);\n",
    "\n",
    "create table diet (\n",
    "       species text,\n",
    "       food text);  \n",
    "\n",
    "create table taxonomy (\n",
    "       name text,\n",
    "       species text,\n",
    "       genus text,\n",
    "       family text,\n",
    "       t_order text); \n",
    "\n",
    "create table ordernames (\n",
    "       t_order text,\n",
    "       name text);"
   ]
  },
  {
   "cell_type": "code",
   "execution_count": null,
   "metadata": {
    "collapsed": true
   },
   "outputs": [],
   "source": [
    "# Experimenting with features of SQL\n",
    "\n",
    "QUERY = \"select max(name) from animals;\"\n",
    "# returns the animal name at the end of the alphabet\n",
    "\n",
    "QUERY = \"select * from animals limit 10;\"\n",
    "# returns the first 10 animals and it looks like it is ordered by alphabetical name\n",
    "\n",
    "QUERY = \"select * from animals where species = 'orangutan' order by birthdate;\"\n",
    "# returns all orangutans and ordered by birthdate field ascending\n",
    "\n",
    "QUERY = \"select name from animals where species = 'orangutan' order by birthdate desc;\"\n",
    "# returns names of orangutans and descends order by birthdate descending\n",
    "\n",
    "QUERY = \"select name, birthdate from animals order by name limit 10 offset 20;\"\n",
    "# returns name and birthdate, limit of 10 rows, and chooses the 20th-30th names & birthdate\n",
    "\n",
    "QUERY = \"select species, min(birthdate) from animals group by species;\"\n",
    "# returns columns species & min(birthdate), grouping the data by species\n",
    "\n",
    "QUERY = '''\n",
    "select name, count(*) as num from animals\n",
    "group by name\n",
    "order by num desc\n",
    "limit 5;\n",
    "'''\n",
    "# returns the name of animals & the count of all names as the field 'num'\n",
    "# the data is also grouped by name and ordered by the 'num' field desc.\n",
    "# limit of 5 returned entries"
   ]
  },
  {
   "cell_type": "code",
   "execution_count": null,
   "metadata": {
    "collapsed": true
   },
   "outputs": [],
   "source": [
    "# Just a few of the SELECT Clauses below\n",
    "\n",
    "# limit & offset\n",
    "\n",
    "Limit count[Offset skip]\n",
    "# count = how many rows to return\n",
    "# offset = how far into the results to start\n",
    "\n",
    "# example:\n",
    "limit 10 offset 50\n",
    "# Returns 10 rows, starting with the 51st row\n",
    "\n",
    "\n",
    "# order by\n",
    "\n",
    "Order by columns[desc]\n",
    "# columns = which columns to sort by, separated with commas\n",
    "# desc = sort in reverse order (descending)\n",
    "\n",
    "# example:\n",
    "order by species, name\n",
    "# sort result rows first by the species column,\n",
    "# then within each species sort by the name column\n",
    "\n",
    "# group by\n",
    "\n",
    "Group by columns\n",
    "# clumns = which columns to use as groupings when aggregating\n",
    "\n",
    "# example:\n",
    "select species, min(birthdate) from animals group by species;\n",
    "\n",
    "select name, count(*) as num from animals group by name;\n",
    "# count(*) = count all the rows\n",
    "# as num - and call the count column 'num'\n",
    "# group by name = aggregate by values of the name column"
   ]
  },
  {
   "cell_type": "markdown",
   "metadata": {},
   "source": [
    "### SQL and Python are a lot like each other!\n",
    "\n",
    "#### Count(*) = len(results)\n",
    "#### Limit 100 offset 10 = restults[10:110]\n",
    "#### order by column = sorted(results, key = lambda(x):x[column])\n",
    "\n",
    "### So why do it in the database?\n",
    "### SPEED & SPACE!\n",
    "\n",
    "#### Sorting a million rows in a database via python takes about a second, so if a web page is looking up a database that is time a person is waiting for the code to find the data queried on site"
   ]
  },
  {
   "cell_type": "code",
   "execution_count": null,
   "metadata": {
    "collapsed": true
   },
   "outputs": [],
   "source": [
    "# count all the species quiz!\n",
    "\n",
    "# write a query that returns all the species in the zoo, \n",
    "# and how many animals of each species there are, sorted \n",
    "# with the most populous species at the top\n",
    "\n",
    "select species, count(*) as num from animals\n",
    "group by species\n",
    "order by num desc;"
   ]
  },
  {
   "cell_type": "code",
   "execution_count": null,
   "metadata": {
    "collapsed": true
   },
   "outputs": [],
   "source": [
    "# Insert adding rows to a table\n",
    "\n",
    "# To add a row:\n",
    "    Insert into table values(42, 'stuff');\n",
    "    \n",
    "# If the new values arten't in the same order as the table's columns:\n",
    "    Insert into table(col2, col1)\n",
    "        values('stuff', 42);\n",
    "        \n",
    "select_query = 'Select...'\n",
    "insert_query = 'Insert...'\n",
    "\n",
    "SELECT_QUERY = \"SELECT 'opossum' WHERE 'birthdate' order by desc;\"\n",
    "\n",
    "INSERT_QUERY = \"INSERT INTO animals values('Baby Nicolas', 'opossum', '7/1/2017');\"\n",
    "\n"
   ]
  },
  {
   "cell_type": "code",
   "execution_count": null,
   "metadata": {
    "collapsed": true
   },
   "outputs": [],
   "source": [
    "# Join Statements!\n",
    "\n",
    "# Joining Tables!\n",
    "\n",
    "select T.thing, S.stuff\n",
    "# rows to join\n",
    "from T join S\n",
    "# joined tables\n",
    "on T.target = S.match\n",
    "# join condition\n",
    "\n",
    "OR\n",
    "\n",
    "# Simple join\n",
    "\n",
    "select T.target, S.stuff\n",
    "# rows targeted\n",
    "from T, S\n",
    "# tables\n",
    "where T.target = S.match\n",
    "# restriction\n",
    "\n",
    "\n",
    "# example quiz:\n",
    "\n",
    "# Find the names of the individual animals that eat fish.\n",
    "#\n",
    "# The animals table has columns (name, species, birthdate) for each individual.\n",
    "# The diet table has columns (species, food) for each food that a species eats.\n",
    "\n",
    "select animals.name, diet.food = 'fish'\n",
    "from animals join diet\n",
    "on animals.species = diet.species\n",
    "where food = 'fish';\n",
    "\n",
    "OR\n",
    "\n",
    "select name from animals, diet\n",
    "where animals.species = diet.species\n",
    "and diet.food = 'fish';"
   ]
  },
  {
   "cell_type": "code",
   "execution_count": null,
   "metadata": {
    "collapsed": true
   },
   "outputs": [],
   "source": [
    "# Which species does the zoo have only one of?\n",
    "# IMPORTANT LESSON\n",
    "\n",
    "select species, count(*) as num\n",
    "from animals \n",
    "group by species\n",
    "having num = 1;\n",
    "\n",
    "# where is a restriction on the source tables\n",
    "# having is a restriction on the result after aggregationg!\n",
    "\n",
    "select food, count(*) as num \n",
    "from animals, diet\n",
    "where animals.species = diet.species\n",
    "group by diet.food\n",
    "having num = 1;"
   ]
  },
  {
   "cell_type": "markdown",
   "metadata": {},
   "source": [
    "### Multiple Join Statements!"
   ]
  },
  {
   "cell_type": "code",
   "execution_count": 3,
   "metadata": {},
   "outputs": [
    {
     "ename": "SyntaxError",
     "evalue": "invalid syntax (<ipython-input-3-e3166adbbfc0>, line 29)",
     "output_type": "error",
     "traceback": [
      "\u001b[0;36m  File \u001b[0;32m\"<ipython-input-3-e3166adbbfc0>\"\u001b[0;36m, line \u001b[0;32m29\u001b[0m\n\u001b[0;31m    SELECT ordernames.name, count(animals.species) as num\u001b[0m\n\u001b[0m                    ^\u001b[0m\n\u001b[0;31mSyntaxError\u001b[0m\u001b[0;31m:\u001b[0m invalid syntax\n"
     ]
    }
   ],
   "source": [
    "# animals\n",
    "# This table lists individual animals in the zoo. \n",
    "# Each animal has only one row. There may be multiple animals \n",
    "# with the same name, or even multiple animals with the same name \n",
    "# and species.\n",
    "\n",
    "# name — the animal's name (example: 'George')\n",
    "# species — the animal's species (example: 'gorilla')\n",
    "# birthdate — the animal's date of birth (example: '1998-05-18')\n",
    "\n",
    "# taxonomy\n",
    "# This table giaves the (partial) biological taxonomic names \n",
    "# for each species in the zoo. It can be used to find which \n",
    "# species are more closely related to each other evolutionarily.\n",
    "\n",
    "# name — the common name of the species (e.g. 'jackal')\n",
    "# species — the taxonomic species name (e.g. 'aureus')\n",
    "# genus — the taxonomic genus name (e.g. 'Canis')\n",
    "# family — the taxonomic family name (e.g. 'Canidae')\n",
    "# t_order — the taxonomic order name (e.g. 'Carnivora')\n",
    "# If you've never heard of this classification, don't worry about it; the details won't be necessary for this course. But if you're curious, Wikipedia articles Taxonomy and Biological classification may help.\n",
    "\n",
    "# ordernames\n",
    "# This table gives the common names for each of the taxonomic orders \n",
    "# in the taxonomy table.\n",
    "# t_order — the taxonomic order name (e.g. 'Cetacea')\n",
    "# name — the common name (e.g. 'whales and dolphins')\n",
    "\n",
    "SELECT ordernames.name, count(animals.species) as num\n",
    "FROM ordernames\n",
    "JOIN taxonomy ON ordernames.t_order = taxonomy.t_order\n",
    "JOIN animals ON taxonomy.name = animals.species\n",
    "GROUP BY ordernames.t_order\n",
    "ORDER BY num desc;"
   ]
  },
  {
   "cell_type": "markdown",
   "metadata": {},
   "source": [
    "### Quiz 1 - Q\n",
    "\n",
    "#### SQL Statement Order\n",
    "#### don't forget, to start SQLite, type in sqlite3 in terminal, but you have to also initiate the database you want to query"
   ]
  },
  {
   "cell_type": "code",
   "execution_count": null,
   "metadata": {
    "collapsed": true
   },
   "outputs": [],
   "source": [
    "SELECT Composer, COUNT(*)\n",
    "FROM Track\n",
    "GROUP BY Composer\n",
    "ORDER BY COUNT(*)\n",
    "DESC\n",
    "Limit 10;"
   ]
  },
  {
   "cell_type": "markdown",
   "metadata": {},
   "source": [
    "### Quiz 2 - U"
   ]
  },
  {
   "cell_type": "code",
   "execution_count": null,
   "metadata": {
    "collapsed": true
   },
   "outputs": [],
   "source": [
    "SELECT name, milliseconds\n",
    "FROM Track\n",
    "WHERE milliseconds >2500000\n",
    "AND Milliseconds < 2600000\n",
    "ORDER BY Milliseconds;"
   ]
  },
  {
   "cell_type": "markdown",
   "metadata": {},
   "source": [
    "### Quiz 3 - E"
   ]
  },
  {
   "cell_type": "code",
   "execution_count": null,
   "metadata": {
    "collapsed": true
   },
   "outputs": [],
   "source": [
    "SELECT Artist.name, Album.Title\n",
    "FROM Album JOIN Artist\n",
    "on Artist.ArtistId = Album.ArtistId\n",
    "Where name = 'Iron Maiden'\n",
    "OR name = 'Amy Winhouse';"
   ]
  },
  {
   "cell_type": "markdown",
   "metadata": {},
   "source": [
    "### Quiz 4 - R"
   ]
  },
  {
   "cell_type": "code",
   "execution_count": null,
   "metadata": {
    "collapsed": true
   },
   "outputs": [],
   "source": [
    "SELECT BillingCountry, COUNT(*) as totalInvoices\n",
    "FROM Invoice\n",
    "GROUP BY BillingCountry\n",
    "ORDER BY totalInvoices desc\n",
    "Limit 3;"
   ]
  },
  {
   "cell_type": "markdown",
   "metadata": {},
   "source": [
    "### Quiz 5 - I"
   ]
  },
  {
   "cell_type": "code",
   "execution_count": null,
   "metadata": {
    "collapsed": true
   },
   "outputs": [],
   "source": [
    "SELECT Customer.Email, Customer.FirstName, Customer.LastName, SUM(Invoice.Total) as Total\n",
    "FROM Customer JOIN Invoice\n",
    "ON Customer.CustomerId = Invoice.CustomerId\n",
    "GROUP BY Customer.Email\n",
    "ORDER BY Total desc\n",
    "LIMIT 1;"
   ]
  },
  {
   "cell_type": "markdown",
   "metadata": {},
   "source": [
    "### Quiz 6 - E"
   ]
  },
  {
   "cell_type": "code",
   "execution_count": null,
   "metadata": {
    "collapsed": true
   },
   "outputs": [],
   "source": [
    "SELECT Customer.Email, Customer.FirstName, Customer.LastName, Genre.Name\n",
    "FROM Customer\n",
    "JOIN Invoice ON Customer.CustomerId = Invoice.CustomerId\n",
    "JOIN InvoiceLine ON Invoice.InvoiceId = InvoiceLine.InvoiceId\n",
    "JOIN Track ON InvoiceLine.TrackId = Track.TrackId\n",
    "JOIN Genre ON Track.GenreId = Genre.GenreId\n",
    "WHERE Genre.Name = 'Rock'\n",
    "GROUP BY Customer.Email\n",
    "ORDER BY Customer.Email;"
   ]
  },
  {
   "cell_type": "markdown",
   "metadata": {},
   "source": [
    "### Quiz 7 - S"
   ]
  },
  {
   "cell_type": "code",
   "execution_count": null,
   "metadata": {
    "collapsed": true
   },
   "outputs": [],
   "source": [
    "SELECT BillingCity, SUM(Total)\n",
    "FROM Invoice\n",
    "GROUP BY BillingCity\n",
    "ORDER BY SUM(Total) desc\n",
    "LIMIT 1;"
   ]
  },
  {
   "cell_type": "markdown",
   "metadata": {},
   "source": [
    "### Quiz 8 - R"
   ]
  },
  {
   "cell_type": "code",
   "execution_count": null,
   "metadata": {
    "collapsed": true
   },
   "outputs": [],
   "source": [
    "SELECT Invoice.BillingCity, COUNT(Genre.Name), Genre.Name\n",
    "FROM Invoice\n",
    "JOIN InvoiceLine ON Invoice.InvoiceId = InvoiceLine.InvoiceId\n",
    "JOIN Track ON InvoiceLine.TrackId = Track.TrackId\n",
    "JOIN Genre ON Track.GenreId = Genre.GenreId\n",
    "WHERE Invoice.BillingCity = 'Prague'\n",
    "GROUP BY Genre.Name\n",
    "ORDER BY COUNT(Genre.Name) desc\n",
    "LIMIT 3;"
   ]
  },
  {
   "cell_type": "markdown",
   "metadata": {},
   "source": [
    "### Quiz 9 - F"
   ]
  },
  {
   "cell_type": "code",
   "execution_count": null,
   "metadata": {
    "collapsed": true
   },
   "outputs": [],
   "source": [
    "SELECT Artist.Name, COUNT(Genre.Name)\n",
    "FROM Genre\n",
    "JOIN Track ON Genre.GenreId = Track.GenreId\n",
    "JOIN Album ON Track.ALbumId = Album.AlbumId\n",
    "JOIN Artist ON Album.ArtistId = Artist.ArtistId\n",
    "WHERE Genre.Name = 'Rock'\n",
    "GROUP BY Artist.Name\n",
    "ORDER BY COUNT(Genre.Name) desc\n",
    "LIMIT 10;"
   ]
  },
  {
   "cell_type": "markdown",
   "metadata": {},
   "source": [
    "### Quiz 10 - U"
   ]
  },
  {
   "cell_type": "code",
   "execution_count": null,
   "metadata": {
    "collapsed": true
   },
   "outputs": [],
   "source": [
    "SELECT Invoice.BillingCity, COUNT(InvoiceLine.TrackId) as Numtracks\n",
    "FROM Invoice\n",
    "JOIN InvoiceLine ON Invoice.InvoiceId = InvoiceLine.InvoiceId\n",
    "JOIN Track ON InvoiceLine.TrackId = Track.TrackId\n",
    "JOIN Genre ON Genre.GenreId = Track.GenreId\n",
    "WHERE Invoice.BillingCountry = 'France'\n",
    "AND Genre.Name = 'Alternative & Punk'\n",
    "GROUP BY Invoice.BillingCity\n",
    "ORDER BY Numtracks desc;"
   ]
  },
  {
   "cell_type": "markdown",
   "metadata": {},
   "source": [
    "### Quiz 11 - N"
   ]
  }
 ],
 "metadata": {
  "kernelspec": {
   "display_name": "Python 3",
   "language": "python",
   "name": "python3"
  },
  "language_info": {
   "codemirror_mode": {
    "name": "ipython",
    "version": 3
   },
   "file_extension": ".py",
   "mimetype": "text/x-python",
   "name": "python",
   "nbconvert_exporter": "python",
   "pygments_lexer": "ipython3",
   "version": "3.4.5"
  }
 },
 "nbformat": 4,
 "nbformat_minor": 2
}
