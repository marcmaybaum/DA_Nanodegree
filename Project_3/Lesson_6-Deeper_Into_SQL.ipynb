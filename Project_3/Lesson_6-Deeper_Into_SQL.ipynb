{
 "cells": [
  {
   "cell_type": "markdown",
   "metadata": {},
   "source": [
    "### We will be learning how to create tables and linking them together, and powerful tricks for SQL with your python code"
   ]
  },
  {
   "cell_type": "markdown",
   "metadata": {},
   "source": [
    "### Normalized Design\n",
    "\n",
    "#### In a normalized database, the relationship among the tables match the relationships that are really there among the data\n",
    "\n",
    "#### A bunch of theory behind this idea, see below\n",
    "\n",
    "http://www.bkent.net/Doc/simple5.htm"
   ]
  },
  {
   "cell_type": "markdown",
   "metadata": {},
   "source": [
    "#### Database normalization is the process of organizing the columns and tables of a relational database to reduce data redundancy and improve data integrity\n",
    "#### It is also the process of simplifying the design of a database so that it achieves the optimum structure\n",
    "\n",
    "https://en.wikipedia.org/wiki/Database_normalization"
   ]
  },
  {
   "cell_type": "markdown",
   "metadata": {},
   "source": [
    "### Normalized Design\n",
    "\n",
    "#### First rule: Every row has the same number of columns\n",
    "#### Second rule: There is a unique key and everything in a row says something about the key\n",
    "#### Third rule: Facts that don't relate to the key belong in different tables\n",
    "#### Fourth rule: Tables shouldn't imply relationships that don't exist"
   ]
  },
  {
   "cell_type": "markdown",
   "metadata": {},
   "source": [
    "### Create Table and Types"
   ]
  },
  {
   "cell_type": "code",
   "execution_count": null,
   "metadata": {
    "collapsed": true
   },
   "outputs": [],
   "source": [
    "# example below\n",
    "\n",
    "create table tablename(\n",
    "    column1 type[constraints],\n",
    "    column2 type[constraints],\n",
    "    ...);"
   ]
  },
  {
   "cell_type": "markdown",
   "metadata": {},
   "source": [
    "#### Data types are different amongst all the SQL programs - POSTgreSQL, MySQL, SQlite"
   ]
  },
  {
   "cell_type": "markdown",
   "metadata": {},
   "source": [
    "### Creating and Dropping"
   ]
  },
  {
   "cell_type": "code",
   "execution_count": null,
   "metadata": {
    "collapsed": true
   },
   "outputs": [],
   "source": [
    "# create a database for operation\n",
    "create database name[options];\n",
    "\n",
    "# opposite of create - removes database/table\n",
    "drop database name[options];"
   ]
  },
  {
   "cell_type": "markdown",
   "metadata": {},
   "source": [
    "### Primary Keys\n",
    "#### a column or columns that uniquely identify what each row in a table is about"
   ]
  },
  {
   "cell_type": "code",
   "execution_count": null,
   "metadata": {
    "collapsed": true
   },
   "outputs": [],
   "source": [
    "# example of how to do this\n",
    "\n",
    "# for single column, write 'primary key' after column's type \n",
    "create table students(\n",
    "    id serial primary key,\n",
    "    name text,\n",
    "    birthdate date\n",
    ");\n",
    "\n",
    "# if you have a multi column primary key, write 'primary key' after all the columns\n",
    "\n",
    "create table postal_places(\n",
    "    postal_code text,\n",
    "    country text,\n",
    "    name text,\n",
    "    primary key (postal_code, country)\n",
    ");"
   ]
  },
  {
   "cell_type": "markdown",
   "metadata": {},
   "source": [
    "#### if every try to write a primary key that exists in the database already, the database will signal an error"
   ]
  },
  {
   "cell_type": "code",
   "execution_count": 1,
   "metadata": {
    "collapsed": true
   },
   "outputs": [],
   "source": [
    "# roll back is an undo command that can help in these situations"
   ]
  },
  {
   "cell_type": "markdown",
   "metadata": {},
   "source": [
    "### Declaring Relationships\n",
    "#### Cannot add different data types into a column declared with a specific data type. However, if trying to add or match a row with a primary key that doesn't exist in another table, we can declare relationships to help the database figure out what to do.\n",
    "#### References provide referential integrity - columns that are supposed to refer to each other are guaranteed to do so"
   ]
  },
  {
   "cell_type": "code",
   "execution_count": null,
   "metadata": {
    "collapsed": true
   },
   "outputs": [],
   "source": [
    "# example of creating a relationship\n",
    "\n",
    "create table sales(\n",
    "    sku text references products(sku),\n",
    "    sale_date date,\n",
    "    count integer);\n",
    "\n",
    "# using 'references' above tells the database that a particular column should have a reference to another table\n",
    "# you can specify the column of the table, if needed, like the parenthesis above"
   ]
  },
  {
   "cell_type": "markdown",
   "metadata": {},
   "source": [
    "### Foreign Keys\n",
    "#### A column or set of columns in one tble that uniquely identifies rows in another table. It's possible to have two or more foreign keys"
   ]
  },
  {
   "cell_type": "code",
   "execution_count": null,
   "metadata": {
    "collapsed": true
   },
   "outputs": [],
   "source": [
    "# example\n",
    "\n",
    "# table named students with 'id' column as primary key\n",
    "create table students (\n",
    "    id serial primary key,\n",
    "    name text);\n",
    "\n",
    "# table named courses with 'id' column as primary key\n",
    "create table courses(\n",
    "    id text primary key\n",
    "    name text);\n",
    "\n",
    "# table named grades with 'student' column referencing students\n",
    "# table's id column, and 'course' column referencing courses 'id'\n",
    "create table grades (\n",
    "    student integer references students (id),\n",
    "    course text references courses(id),\n",
    "    grade text);\n",
    "\n",
    "# these references help create foreign keys"
   ]
  },
  {
   "cell_type": "markdown",
   "metadata": {},
   "source": [
    "### Self Joins\n",
    "#### There are times where we will want to join a table to itself"
   ]
  },
  {
   "cell_type": "code",
   "execution_count": null,
   "metadata": {
    "collapsed": true
   },
   "outputs": [],
   "source": [
    "select a.id, b.id, a.building, a.room\n",
    "from residences as a, residences as b\n",
    "where a.building = b.building\n",
    "    and a.room = b.room\n",
    "    and a.id > b.id\n",
    "order by a.building, a.room;"
   ]
  },
  {
   "cell_type": "markdown",
   "metadata": {},
   "source": [
    "### Counting for Nulls!\n",
    "#### left joins & right joins"
   ]
  },
  {
   "cell_type": "code",
   "execution_count": null,
   "metadata": {
    "collapsed": true
   },
   "outputs": [],
   "source": [
    "# example that counts rows with 0's\n",
    "\n",
    "select programs.name, count(bugs.filename) as num\n",
    "       from programs left join bugs\n",
    "         on programs.filename = bugs.filename\n",
    "       group by programs.name\n",
    "       order by num;"
   ]
  },
  {
   "cell_type": "markdown",
   "metadata": {},
   "source": [
    "### What's a DB-API\n",
    "#### Behind our server is Python Code that connects to SQLite, which is hooked up, via a web standard called a DB-API, to a database. If learn DB-API system, you can control database in Python libraries through any number of database systems. Python DB-API is a standard that allows to hook up to different databases. If learn DB-API functions, you can apply to any database system. Libraries include sqlite3, psycopg2, pyodbc, mysql.connector."
   ]
  },
  {
   "cell_type": "code",
   "execution_count": 1,
   "metadata": {},
   "outputs": [
    {
     "ename": "OperationalError",
     "evalue": "no such table: students",
     "output_type": "error",
     "traceback": [
      "\u001b[0;31m---------------------------------------------------------------------------\u001b[0m",
      "\u001b[0;31mOperationalError\u001b[0m                          Traceback (most recent call last)",
      "\u001b[0;32m<ipython-input-1-67fc8aaadae2>\u001b[0m in \u001b[0;36m<module>\u001b[0;34m()\u001b[0m\n\u001b[1;32m     21\u001b[0m \u001b[0;31m## .execute does the query instructed; however, does not return the query\u001b[0m\u001b[0;34m\u001b[0m\u001b[0;34m\u001b[0m\u001b[0m\n\u001b[1;32m     22\u001b[0m \u001b[0mquery\u001b[0m \u001b[0;34m=\u001b[0m \u001b[0;34m\"select name, id from students order by name;\"\u001b[0m\u001b[0;34m\u001b[0m\u001b[0m\n\u001b[0;32m---> 23\u001b[0;31m \u001b[0mc\u001b[0m\u001b[0;34m.\u001b[0m\u001b[0mexecute\u001b[0m\u001b[0;34m(\u001b[0m\u001b[0mquery\u001b[0m\u001b[0;34m)\u001b[0m\u001b[0;34m\u001b[0m\u001b[0m\n\u001b[0m\u001b[1;32m     24\u001b[0m \u001b[0;34m\u001b[0m\u001b[0m\n\u001b[1;32m     25\u001b[0m \u001b[0;31m## must execute query in order to retrieve any queries\u001b[0m\u001b[0;34m\u001b[0m\u001b[0;34m\u001b[0m\u001b[0m\n",
      "\u001b[0;31mOperationalError\u001b[0m: no such table: students"
     ]
    }
   ],
   "source": [
    "# To see how the various functions in the DB-API work, take a look at this code,\n",
    "# then the results that it prints when you press \"Test Run\".\n",
    "#\n",
    "# Then modify this code so that the student records are fetched in sorted order\n",
    "# by student's name.\n",
    "#\n",
    "\n",
    "import sqlite3\n",
    "\n",
    "# Fetch some student records from the database.\n",
    "\n",
    "## connects to the database 'students' using sqlite3 functions in python\n",
    "db = sqlite3.connect(\"students\")\n",
    "\n",
    "## to use the database, we need to get a cursor object .cursor() \n",
    "## this allows python to pass SQL statements to the cursor object \n",
    "## to execute them. after executing commands, look to commit changes \n",
    "c = db.cursor()\n",
    "\n",
    "## sql commands are done with double quotes\n",
    "## .execute does the query instructed; however, does not return the query\n",
    "query = \"select name, id from students order by name;\"\n",
    "c.execute(query)\n",
    "\n",
    "## must execute query in order to retrieve any queries\n",
    "## fetchone() returns a single row\n",
    "## fetchall() command will return all rows however\n",
    "rows = c.fetchall()\n",
    "\n",
    "# First, what data structure did we get?\n",
    "print \"Row data:\"\n",
    "print rows\n",
    "\n",
    "# And let's loop over it too:\n",
    "print\n",
    "print \"Student names:\"\n",
    "for row in rows:\n",
    "  print \"  \", row[0]\n",
    "\n",
    "db.close()\n"
   ]
  },
  {
   "cell_type": "markdown",
   "metadata": {},
   "source": [
    "### For more information about how to control sqlite in jupyter notebook, check out the link below.\n",
    "\n",
    "http://www.bogotobogo.com/python/python_sqlite_connect_create_drop_table.php\n",
    "\n",
    "http://www.bogotobogo.com/python/python_sqlite_select_update_delete.php"
   ]
  },
  {
   "cell_type": "markdown",
   "metadata": {
    "collapsed": true
   },
   "source": [
    "## Writing code with DB-API\n",
    "\n",
    "### Every time you will use sqlite3, you will follow these commands"
   ]
  },
  {
   "cell_type": "code",
   "execution_count": null,
   "metadata": {
    "collapsed": true
   },
   "outputs": [],
   "source": [
    "# 1) importing database system library\n",
    "import sqlite3\n",
    "# 2) connect to database\n",
    "# if using a database system over network, you may have to specify usernmae and password\n",
    "# connection is good until you close it\n",
    "conn = sqlite3.connect(\"Cookies\")\n",
    "# 3) cursor is used to scan through the results\n",
    "# called cursor because you use it to scan through all data\n",
    "cursor = conn.cursor()\n",
    "# 4) execute a query through the cursor\n",
    "cursor.execute(\n",
    "    \"select host_key from cookies limit 10\")\n",
    "# 5) if doing insert or any query that changes the database, you would have to commit it\n",
    "results = cursor.fetchall()\n",
    "\n",
    "print results\n",
    "# when done, close connections. stale connections take resources.\n",
    "conn.close()"
   ]
  },
  {
   "cell_type": "markdown",
   "metadata": {},
   "source": [
    "## Inserts in DB-API\n",
    "### must submit a commit after creating a change"
   ]
  },
  {
   "cell_type": "code",
   "execution_count": null,
   "metadata": {
    "collapsed": true
   },
   "outputs": [],
   "source": [
    "import sqlite3\n",
    "\n",
    "db = sqlite3.connect(\"testdb\")\n",
    "c = db.cursor()\n",
    "c.execute(\"insert into balloons values ('blue', 'water') \")\n",
    "db.commit()\n",
    "db.close()"
   ]
  },
  {
   "cell_type": "markdown",
   "metadata": {},
   "source": [
    "### changes in jupyter notebook happen in atomicity (either a transaction happens as a whole or not at all)"
   ]
  },
  {
   "cell_type": "markdown",
   "metadata": {},
   "source": [
    "## Subqueries\n",
    "### instead of selecting tables or joins of tables, you can also select resulting tables of selects in a query - this is called subqueries or subselecting. The result of a query is always a table, which is why you can have a select in a select "
   ]
  },
  {
   "cell_type": "code",
   "execution_count": null,
   "metadata": {
    "collapsed": true
   },
   "outputs": [],
   "source": [
    "# query to find average score of the highest score\n",
    "# SQL makes the subquery table have a name (this is the 'as maxes' in query)\n",
    "'select avg(bigscore) from (select max(score) as bigscore from mooseball group by team) as maxes;''"
   ]
  },
  {
   "cell_type": "code",
   "execution_count": null,
   "metadata": {
    "collapsed": true
   },
   "outputs": [],
   "source": [
    "# Find the players whose weight is less than the average.\n",
    "# \n",
    "# The function below performs two database queries in order to find the right players.\n",
    "# Refactor this code so that it performs only one query.\n",
    "#\n",
    "\n",
    "def lightweights(cursor):\n",
    "    \"\"\"Returns a list of the players in the db whose weight is less than the average.\"\"\"\n",
    "    cursor.execute(\"select avg(weight) as av from players;\")\n",
    "    av = cursor.fetchall()[0][0]  # first column of first (and only) row\n",
    "    cursor.execute(\"select name, weight from players where weight < \" + str(av))\n",
    "    return cursor.fetchall()\n",
    "\n",
    "# turns into\n",
    "\n",
    "def lightweights(cursor):\n",
    "    \"\"\"Returns a list of the players in the db whose weight is less than the average.\"\"\"\n",
    "    cursor.execute(\"select name, weight \n",
    "                   from players,\n",
    "                   (select avg(weight) as av from players) as subq\n",
    "                   where weight < av\")\n",
    "    return cursor.fetchall()"
   ]
  },
  {
   "cell_type": "markdown",
   "metadata": {},
   "source": [
    "## Views\n",
    "### a view is a select query stored in the database in a way that lets you use it like a table"
   ]
  },
  {
   "cell_type": "code",
   "execution_count": null,
   "metadata": {
    "collapsed": true
   },
   "outputs": [],
   "source": [
    "create view course_size as\n",
    "    select course_id, count(*) as num\n",
    "    from enrollment\n",
    "    group by course_id;"
   ]
  },
  {
   "cell_type": "markdown",
   "metadata": {},
   "source": [
    "## Working with CSVs"
   ]
  },
  {
   "cell_type": "code",
   "execution_count": null,
   "metadata": {
    "collapsed": true
   },
   "outputs": [],
   "source": [
    "# Exporting data to CSV in shell\n",
    "\n",
    "sqlite> .mode csv\n",
    "sqlite> .output newFile.csv\n",
    "sqlite> SELECT * FROM myTable;\n",
    "sqlite> .exit\n",
    "\n",
    "# Importing data from CSV in shell\n",
    "\n",
    "$ sqlite3 new.db   <--- \"If you'd like your csv's in a new database remember to make it first.\"\n",
    "\n",
    "sqlite> CREATE TABLE myTable() <--- Build your schema!\n",
    "sqlite> .mode csv\n",
    "sqlite> .import newFile.csv myTable"
   ]
  },
  {
   "cell_type": "markdown",
   "metadata": {},
   "source": [
    "## Learned database design basics. Building normalized tables to represent various relationships among data. And you've spent time with POSTgreSQL and Python DB-API documentation - use them in your future work."
   ]
  },
  {
   "cell_type": "markdown",
   "metadata": {},
   "source": [
    "### Quiz 1 - U"
   ]
  },
  {
   "cell_type": "markdown",
   "metadata": {},
   "source": [
    "### Quiz 2 - D"
   ]
  },
  {
   "cell_type": "markdown",
   "metadata": {},
   "source": [
    "### Quiz 3 - A"
   ]
  },
  {
   "cell_type": "markdown",
   "metadata": {},
   "source": [
    "### Quiz 4 - C"
   ]
  },
  {
   "cell_type": "code",
   "execution_count": null,
   "metadata": {
    "collapsed": true
   },
   "outputs": [],
   "source": [
    "##  After all the success promoting your music tour last section, \n",
    "##  a new friend has asked to partner up and build your own music website!\n",
    "##  You'll need to rebuild your own database and import the data to your new system.\n",
    "\n",
    "##  Let's first take a closer look at how to build and populate your local database.\n",
    "##  The box below shows the Album table schema including Primary and Foreign Keys.\n",
    "##  Have a look at this table and the CREATE TABLE statement below to see how they \n",
    "##  relate.\n",
    "\n",
    "'''\n",
    "First, disconnect from your Chinook database.\n",
    "> .exit\n",
    "\n",
    "Create a new database named whatever you'd like your store to be called.\n",
    "$ sqlite3 UdaciousMusic.db\n",
    "\n",
    "Now we can populate this database with our first table.\n",
    "\n",
    "Here's a graphic showing some information about the Album table.\n",
    "We can use this to build a table in our new database.\n",
    "\n",
    "######################################################################\n",
    "#                         Table: Album                               #\n",
    "######################################################################\n",
    "+--------------------+---------------+-----------------+--------------+\n",
    "|      Columns       |   Data Type   |    Primary Key  |  Foreign Key |\n",
    "+====================+===============+=================+==============+ \n",
    "|      AlbumId           INTEGER            YES              NO       |\n",
    "|      Title             TEXT               NO               NO       |\n",
    "|      ArtistId          INTEGER            NO               YES      |\n",
    "|      UnitPrice         REAL               NO               NO       |\n",
    "|      Quantity          INTEGER            NO               NO       |\n",
    "+====================+===============+=================+==============+ \n",
    "\n",
    "We can use this information to decide how our schema should look.\n",
    "Do you see how the schema below reflects the table above?\n",
    "\n",
    "CREATE TABLE Album\n",
    "(\n",
    "    AlbumId INTEGER PRIMARY KEY,\n",
    "    Title TEXT,\n",
    "    ArtistId INTEGER,\n",
    "    FOREIGN KEY (ArtistId) REFERENCES Artist (ArtistId) \n",
    ");\n",
    "\n",
    "Try pasting the schema into your local database.  \n",
    "Let's check to see if anything happened.\n",
    "\n",
    "sqlite> .tables\n",
    "Album <--- Do you see the Album table?  I hope so!\n",
    "\n",
    "Now, do we have any data in our new table?\n",
    "\n",
    "sqlite> SELECT * FROM Album;\n",
    "\n",
    "Do you see data?  I hope not, we haven't added any yet!\n",
    "\n",
    "Open the Album.sql tab.  You can copy and paste these lines directly into \n",
    "your sqlite terminal. (Use Ctrl+A or Command+A to select all lines when the\n",
    "code editor is selected to select all the lines at once.)\n",
    "\n",
    "Now try to run your query again.  You've got data... NICE!\n",
    "\n",
    "'''\n",
    "##  Use the previous example to help you construct the InvoiceLine table.\n",
    "##  When you're ready, run you query to CREATE and populate the InvoiceLine table \n",
    "##  using data from the InvoiceLine.sql file. \n",
    "\n",
    "QUERY='''\n",
    "CREATE TABLE InvoiceLine\n",
    "(\n",
    "InvoiceLineId INTEGER PRIMARY KEY,\n",
    "InvoiceId INTEGER,\n",
    "TrackId INTEGER,\n",
    "UnitPrice REAL,\n",
    "Quantity INTEGER,\n",
    "FOREIGN KEY (InvoiceId) REFERENCES Invoice (InvoiceId),\n",
    "FOREIGN KEY (TrackId) REFERENCES Track (TrackId)\n",
    ");\n",
    "\n",
    "'''\n",
    "\n",
    "'''\n",
    "######################################################################\n",
    "#                         Table: InvoiceLine                         #\n",
    "######################################################################\n",
    "+--------------------+---------------+-----------------+--------------+\n",
    "|      Columns       |   Data Type   |    Primary Key  |  Foreign Key |\n",
    "+====================+===============+=================+==============+ \n",
    "|      InvoiceLineId     INTEGER            YES              NO       |\n",
    "|      InvoiceId         INTEGER            NO               YES      |\n",
    "|      TrackId           INTEGER            NO               YES      |\n",
    "|      UnitPrice         REAL               NO               NO       |\n",
    "|      Quantity          INTEGER            NO               NO       |\n",
    "+====================+===============+=================+==============+ \n",
    "'''\n",
    "\n",
    "##  These examples should help you build any remaining tables from the Chinook database.\n",
    "\n",
    "##  Use .schema when connected to the Chinook database to see the tables and columns \n",
    "##  in your Chinook database, and try recreating them in your new database.\n",
    "##  You can populate these tables using the sql files from the Downloadables section, or \n",
    "##  with CSV files, which you'll learn to do next!\n"
   ]
  },
  {
   "cell_type": "markdown",
   "metadata": {},
   "source": [
    "### Quiz 5 - I (uploading CSVs to database)"
   ]
  },
  {
   "cell_type": "code",
   "execution_count": null,
   "metadata": {
    "collapsed": true
   },
   "outputs": [],
   "source": [
    ".mode csv\n",
    ".import Album.csv Album"
   ]
  },
  {
   "cell_type": "markdown",
   "metadata": {},
   "source": [
    "# REALLY IMPORTANT\n",
    "## How to use sqlite3 in jupyter notebook and push database into a Pandas Dataframe!"
   ]
  },
  {
   "cell_type": "code",
   "execution_count": 4,
   "metadata": {},
   "outputs": [
    {
     "name": "stdout",
     "output_type": "stream",
     "text": [
      "       0   1                    2                                         3  \\\n",
      "0      1   2  2009-01-01 00:00:00                   Theodor-Heuss-Straße 34   \n",
      "1      2   4  2009-01-02 00:00:00                          Ullevålsveien 14   \n",
      "2      3   8  2009-01-03 00:00:00                           Grétrystraat 63   \n",
      "3      4  14  2009-01-06 00:00:00                            8210 111 ST NW   \n",
      "4      5  23  2009-01-11 00:00:00                           69 Salem Street   \n",
      "5      6  37  2009-01-19 00:00:00                          Berger Straße 10   \n",
      "6      7  38  2009-02-01 00:00:00                       Barbarossastraße 19   \n",
      "7      8  40  2009-02-01 00:00:00                            8, Rue Hanovre   \n",
      "8      9  42  2009-02-02 00:00:00                    9, Place Louis Barthou   \n",
      "9     10  46  2009-02-03 00:00:00                          3 Chatham Street   \n",
      "10    11  52  2009-02-06 00:00:00                         202 Hoxton Street   \n",
      "11    12   2  2009-02-11 00:00:00                   Theodor-Heuss-Straße 34   \n",
      "12    13  16  2009-02-19 00:00:00                 1600 Amphitheatre Parkway   \n",
      "13    14  17  2009-03-04 00:00:00                           1 Microsoft Way   \n",
      "14    15  19  2009-03-04 00:00:00                           1 Infinite Loop   \n",
      "15    16  21  2009-03-05 00:00:00                          801 W 4th Street   \n",
      "16    17  25  2009-03-06 00:00:00                     319 N. Frances Street   \n",
      "17    18  31  2009-03-09 00:00:00                     194A Chain Lake Drive   \n",
      "18    19  40  2009-03-14 00:00:00                            8, Rue Hanovre   \n",
      "19    20  54  2009-03-22 00:00:00                            110 Raeburn Pl   \n",
      "20    21  55  2009-04-04 00:00:00                         421 Bourke Street   \n",
      "21    22  57  2009-04-04 00:00:00                           Calle Lira, 198   \n",
      "22    23  59  2009-04-05 00:00:00                         3,Raj Bhavan Road   \n",
      "23    24   4  2009-04-06 00:00:00                          Ullevålsveien 14   \n",
      "24    25  10  2009-04-09 00:00:00                 Rua Dr. Falcão Filho, 155   \n",
      "25    26  19  2009-04-14 00:00:00                           1 Infinite Loop   \n",
      "26    27  33  2009-04-22 00:00:00                            5112 48 Street   \n",
      "27    28  34  2009-05-05 00:00:00                        Rua da Assunção 53   \n",
      "28    29  36  2009-05-05 00:00:00                        Tauentzienstraße 8   \n",
      "29    30  38  2009-05-06 00:00:00                       Barbarossastraße 19   \n",
      "..   ...  ..                  ...                                       ...   \n",
      "382  383  10  2013-08-12 00:00:00                 Rua Dr. Falcão Filho, 155   \n",
      "383  384  24  2013-08-20 00:00:00                     162 E Superior Street   \n",
      "384  385  25  2013-09-02 00:00:00                     319 N. Frances Street   \n",
      "385  386  27  2013-09-02 00:00:00                           1033 N Park Ave   \n",
      "386  387  29  2013-09-03 00:00:00                    796 Dundas Street West   \n",
      "387  388  33  2013-09-04 00:00:00                            5112 48 Street   \n",
      "388  389  39  2013-09-07 00:00:00                             4, Rue Milton   \n",
      "389  390  48  2013-09-12 00:00:00                     Lijnbaansgracht 120bg   \n",
      "390  391   3  2013-09-20 00:00:00                         1498 rue Bélanger   \n",
      "391  392   4  2013-10-03 00:00:00                          Ullevålsveien 14   \n",
      "392  393   6  2013-10-03 00:00:00                             Rilská 3174/6   \n",
      "393  394   8  2013-10-04 00:00:00                           Grétrystraat 63   \n",
      "394  395  12  2013-10-05 00:00:00                          Praça Pio X, 119   \n",
      "395  396  18  2013-10-08 00:00:00                              627 Broadway   \n",
      "396  397  27  2013-10-13 00:00:00                           1033 N Park Ave   \n",
      "397  398  41  2013-10-21 00:00:00                       11, Place Bellecour   \n",
      "398  399  42  2013-11-03 00:00:00                    9, Place Louis Barthou   \n",
      "399  400  44  2013-11-03 00:00:00                           Porthaninkatu 9   \n",
      "400  401  46  2013-11-04 00:00:00                          3 Chatham Street   \n",
      "401  402  50  2013-11-05 00:00:00                        C/ San Bernardo 85   \n",
      "402  403  56  2013-11-08 00:00:00                        307 Macacha Güemes   \n",
      "403  404   6  2013-11-13 00:00:00                             Rilská 3174/6   \n",
      "404  405  20  2013-11-21 00:00:00                      541 Del Medio Avenue   \n",
      "405  406  21  2013-12-04 00:00:00                          801 W 4th Street   \n",
      "406  407  23  2013-12-04 00:00:00                           69 Salem Street   \n",
      "407  408  25  2013-12-05 00:00:00                     319 N. Frances Street   \n",
      "408  409  29  2013-12-06 00:00:00                    796 Dundas Street West   \n",
      "409  410  35  2013-12-09 00:00:00  Rua dos Campeões Europeus de Viena, 4350   \n",
      "410  411  44  2013-12-14 00:00:00                           Porthaninkatu 9   \n",
      "411  412  58  2013-12-22 00:00:00                       12,Community Centre   \n",
      "\n",
      "                  4       5               6           7      8  \n",
      "0         Stuttgart    None         Germany       70174   1.98  \n",
      "1              Oslo    None          Norway        0171   3.96  \n",
      "2          Brussels    None         Belgium        1000   5.94  \n",
      "3          Edmonton      AB          Canada     T6G 2C7   8.91  \n",
      "4            Boston      MA             USA        2113  13.86  \n",
      "5         Frankfurt    None         Germany       60316   0.99  \n",
      "6            Berlin    None         Germany       10779   1.98  \n",
      "7             Paris    None          France       75002   1.98  \n",
      "8          Bordeaux    None          France       33000   3.96  \n",
      "9            Dublin  Dublin         Ireland        None   5.94  \n",
      "10           London    None  United Kingdom      N1 5LH   8.91  \n",
      "11        Stuttgart    None         Germany       70174  13.86  \n",
      "12    Mountain View      CA             USA  94043-1351   0.99  \n",
      "13          Redmond      WA             USA  98052-8300   1.98  \n",
      "14        Cupertino      CA             USA       95014   1.98  \n",
      "15             Reno      NV             USA       89503   3.96  \n",
      "16          Madison      WI             USA       53703   5.94  \n",
      "17          Halifax      NS          Canada     B3S 1C5   8.91  \n",
      "18            Paris    None          France       75002  13.86  \n",
      "19       Edinburgh     None  United Kingdom     EH4 1HH   0.99  \n",
      "20           Sidney     NSW       Australia        2010   1.98  \n",
      "21         Santiago    None           Chile        None   1.98  \n",
      "22        Bangalore    None           India      560001   3.96  \n",
      "23             Oslo    None          Norway        0171   5.94  \n",
      "24        São Paulo      SP          Brazil   01007-010   8.91  \n",
      "25        Cupertino      CA             USA       95014  13.86  \n",
      "26      Yellowknife      NT          Canada     X1A 1N6   0.99  \n",
      "27           Lisbon    None        Portugal        None   1.98  \n",
      "28           Berlin    None         Germany       10789   1.98  \n",
      "29           Berlin    None         Germany       10779   3.96  \n",
      "..              ...     ...             ...         ...    ...  \n",
      "382       São Paulo      SP          Brazil   01007-010  13.86  \n",
      "383         Chicago      IL             USA       60611   0.99  \n",
      "384         Madison      WI             USA       53703   1.98  \n",
      "385          Tucson      AZ             USA       85719   1.98  \n",
      "386         Toronto      ON          Canada     M6J 1V1   3.96  \n",
      "387     Yellowknife      NT          Canada     X1A 1N6   5.94  \n",
      "388           Paris    None          France       75009   8.91  \n",
      "389       Amsterdam      VV     Netherlands        1016  13.86  \n",
      "390        Montréal      QC          Canada     H2G 1A7   0.99  \n",
      "391            Oslo    None          Norway        0171   1.98  \n",
      "392          Prague    None  Czech Republic       14300   1.98  \n",
      "393        Brussels    None         Belgium        1000   3.96  \n",
      "394  Rio de Janeiro      RJ          Brazil   20040-020   5.94  \n",
      "395        New York      NY             USA  10012-2612   8.91  \n",
      "396          Tucson      AZ             USA       85719  13.86  \n",
      "397            Lyon    None          France       69002   0.99  \n",
      "398        Bordeaux    None          France       33000   1.98  \n",
      "399        Helsinki    None         Finland       00530   1.98  \n",
      "400          Dublin  Dublin         Ireland        None   3.96  \n",
      "401          Madrid    None           Spain       28015   5.94  \n",
      "402    Buenos Aires    None       Argentina        1106   8.91  \n",
      "403          Prague    None  Czech Republic       14300  25.86  \n",
      "404   Mountain View      CA             USA   94040-111   0.99  \n",
      "405            Reno      NV             USA       89503   1.98  \n",
      "406          Boston      MA             USA        2113   1.98  \n",
      "407         Madison      WI             USA       53703   3.96  \n",
      "408         Toronto      ON          Canada     M6J 1V1   5.94  \n",
      "409           Porto    None        Portugal        None   8.91  \n",
      "410        Helsinki    None         Finland       00530  13.86  \n",
      "411           Delhi    None           India      110017   1.99  \n",
      "\n",
      "[412 rows x 9 columns]\n"
     ]
    }
   ],
   "source": [
    "##  Here's a playground to help you get a little more comfortable using DB API\n",
    "##  Nothing here is graded, you've done a ton of work so far and I think \n",
    "##  it'd be great to relax and play a bit!\n",
    "\n",
    "##  Connect to the Chinook database and try a few of your own ideas.\n",
    "##  This is also a great place to try experiments building queries \n",
    "##  for the next few quizzes!\n",
    "\n",
    "import sqlite3\n",
    "\n",
    "# Fetch records from either chinook.db\n",
    "db = sqlite3.connect(\"/Users/marcmaybaum/Desktop/Education/Udacity/Data_Analyst_Nanodegree/Project_3/chinook_db/chinook.db\")\n",
    "c = db.cursor()\n",
    "QUERY = \"SELECT * FROM Invoice;\"\n",
    "c.execute(QUERY)\n",
    "rows = c.fetchall()\n",
    "\n",
    "'''Uncomment to see your query in python'''\n",
    "# print (\"Row data:\")\n",
    "# print (rows)\n",
    "\n",
    "'''Uncomment to print your query by row'''\n",
    "# print (\"your output:\")\n",
    "# for row in rows:\n",
    "#  print (\"  \", row[0:])\n",
    "\n",
    "'''Uncomment to see your query as a pandas dataframe.\n",
    "This is similar to the output you've been seeing throughout this course\n",
    "You can learn more about pandas dataframes in our Intro to Data Analysis course!'''\n",
    "\n",
    "import pandas as pd    \n",
    "df = pd.DataFrame(rows)\n",
    "print (df)\n",
    "\n",
    "db.close()"
   ]
  },
  {
   "cell_type": "markdown",
   "metadata": {},
   "source": [
    "### Quiz 6 - O"
   ]
  },
  {
   "cell_type": "code",
   "execution_count": 14,
   "metadata": {},
   "outputs": [
    {
     "name": "stdout",
     "output_type": "stream",
     "text": [
      "      0\n",
      "0   323\n",
      "1   324\n",
      "2   325\n",
      "3   326\n",
      "4   327\n",
      "5   328\n",
      "6   329\n",
      "7   330\n",
      "8   331\n",
      "9   332\n",
      "10  333\n",
      "11  334\n",
      "12  335\n",
      "13  336\n"
     ]
    }
   ],
   "source": [
    "db = sqlite3.connect(\"/Users/marcmaybaum/Desktop/Education/Udacity/Data_Analyst_Nanodegree/Project_3/chinook_db/chinook.db\")\n",
    "c = db.cursor()\n",
    "QUERY = '''\n",
    "SELECT Track.TrackId\n",
    "FROM Track\n",
    "JOIN Genre ON Genre.GenreId = Track.GenreId\n",
    "JOIN MediaType ON MediaType.MediaTypeId = Track.MediaTypeId\n",
    "WHERE Genre.Name = 'Pop' AND MediaType.Name = 'MPEG audio file'\n",
    "GROUP BY TrackId;\n",
    "'''\n",
    "c.execute(QUERY)\n",
    "rows = c.fetchall()\n",
    "\n",
    "'''Uncomment to see your query in python'''\n",
    "# print (\"Row data:\")\n",
    "# print (rows)\n",
    "\n",
    "'''Uncomment to print your query by row'''\n",
    "# print (\"your output:\")\n",
    "# for row in rows:\n",
    "#  print (\"  \", row[0:])\n",
    "\n",
    "'''Uncomment to see your query as a pandas dataframe.\n",
    "This is similar to the output you've been seeing throughout this course\n",
    "You can learn more about pandas dataframes in our Intro to Data Analysis course!'''\n",
    "\n",
    "import pandas as pd    \n",
    "df = pd.DataFrame(rows)\n",
    "print (df)\n",
    "\n",
    "db.close()"
   ]
  },
  {
   "cell_type": "markdown",
   "metadata": {},
   "source": [
    "### Quiz 7 - U"
   ]
  },
  {
   "cell_type": "code",
   "execution_count": 15,
   "metadata": {},
   "outputs": [
    {
     "name": "stdout",
     "output_type": "stream",
     "text": [
      "     0\n",
      "0    3\n",
      "1    5\n",
      "2    7\n",
      "3   14\n",
      "4   16\n",
      "5   17\n",
      "6   18\n",
      "7   19\n",
      "8   20\n",
      "9   21\n",
      "10  22\n",
      "11  23\n",
      "12  30\n",
      "13  31\n",
      "14  32\n",
      "15  35\n",
      "16  37\n",
      "17  38\n",
      "18  39\n",
      "19  40\n",
      "20  42\n",
      "21  43\n",
      "22  44\n",
      "23  46\n",
      "24  49\n",
      "25  50\n",
      "26  51\n",
      "27  53\n",
      "28  54\n",
      "29  56\n",
      "30  58\n",
      "31  59\n"
     ]
    }
   ],
   "source": [
    "db = sqlite3.connect(\"/Users/marcmaybaum/Desktop/Education/Udacity/Data_Analyst_Nanodegree/Project_3/chinook_db/chinook.db\")\n",
    "c = db.cursor()\n",
    "QUERY = '''\n",
    "SELECT Invoice.CustomerId\n",
    "FROM Invoice\n",
    "JOIN InvoiceLine ON Invoice.InvoiceId = InvoiceLine.InvoiceId\n",
    "JOIN Track ON InvoiceLine.TrackId = Track.TrackId\n",
    "JOIN Genre ON Track.GenreId = Genre.GenreId\n",
    "WHERE Genre.Name = 'Jazz'\n",
    "GROUP BY Invoice.CustomerId;\n",
    "'''\n",
    "c.execute(QUERY)\n",
    "rows = c.fetchall()\n",
    "\n",
    "'''Uncomment to see your query in python'''\n",
    "# print (\"Row data:\")\n",
    "# print (rows)\n",
    "\n",
    "'''Uncomment to print your query by row'''\n",
    "# print (\"your output:\")\n",
    "# for row in rows:\n",
    "#  print (\"  \", row[0:])\n",
    "\n",
    "'''Uncomment to see your query as a pandas dataframe.\n",
    "This is similar to the output you've been seeing throughout this course\n",
    "You can learn more about pandas dataframes in our Intro to Data Analysis course!'''\n",
    "\n",
    "import pandas as pd    \n",
    "df = pd.DataFrame(rows)\n",
    "print (df)\n",
    "\n",
    "db.close()"
   ]
  },
  {
   "cell_type": "markdown",
   "metadata": {},
   "source": [
    "### Quiz 8 - "
   ]
  },
  {
   "cell_type": "code",
   "execution_count": 20,
   "metadata": {},
   "outputs": [
    {
     "name": "stdout",
     "output_type": "stream",
     "text": [
      "                     0     1\n",
      "0                 Rock  1162\n",
      "1                Latin   569\n",
      "2   Alternative & Punk   320\n",
      "3                Metal   300\n",
      "4                 Jazz   116\n",
      "5                Blues    72\n",
      "6            Classical    60\n",
      "7             R&B/Soul    60\n",
      "8               Reggae    58\n",
      "9                  Pop    46\n",
      "10          Soundtrack    43\n",
      "11         Alternative    38\n",
      "12         Hip Hop/Rap    34\n",
      "13   Electronica/Dance    28\n",
      "14               World    28\n",
      "15      Easy Listening    24\n",
      "16         Heavy Metal    23\n",
      "17          Bossa Nova    14\n",
      "18       Rock And Roll    12\n",
      "19               Drama     1\n",
      "20               Opera     1\n"
     ]
    }
   ],
   "source": [
    "db = sqlite3.connect(\"/Users/marcmaybaum/Desktop/Education/Udacity/Data_Analyst_Nanodegree/Project_3/chinook_db/chinook.db\")\n",
    "c = db.cursor()\n",
    "QUERY = '''\n",
    "SELECT Genre.Name, COUNT(Track.TrackId) as Num\n",
    "FROM Genre, (SELECT AVG(Track.Milliseconds) as AvgLength FROM Track) as subq\n",
    "JOIN Track ON Genre.GenreId = Track.GenreId\n",
    "WHERE Track.Milliseconds < AvgLength\n",
    "GROUP BY Genre.Name\n",
    "ORDER BY Num desc;\n",
    "'''\n",
    "c.execute(QUERY)\n",
    "rows = c.fetchall()\n",
    "\n",
    "'''Uncomment to see your query in python'''\n",
    "# print (\"Row data:\")\n",
    "# print (rows)\n",
    "\n",
    "'''Uncomment to print your query by row'''\n",
    "# print (\"your output:\")\n",
    "# for row in rows:\n",
    "#  print (\"  \", row[0:])\n",
    "\n",
    "'''Uncomment to see your query as a pandas dataframe.\n",
    "This is similar to the output you've been seeing throughout this course\n",
    "You can learn more about pandas dataframes in our Intro to Data Analysis course!'''\n",
    "\n",
    "import pandas as pd    \n",
    "df = pd.DataFrame(rows)\n",
    "print (df)\n",
    "\n",
    "db.close()"
   ]
  },
  {
   "cell_type": "code",
   "execution_count": null,
   "metadata": {
    "collapsed": true
   },
   "outputs": [],
   "source": []
  }
 ],
 "metadata": {
  "kernelspec": {
   "display_name": "Python 3",
   "language": "python",
   "name": "python3"
  },
  "language_info": {
   "codemirror_mode": {
    "name": "ipython",
    "version": 3
   },
   "file_extension": ".py",
   "mimetype": "text/x-python",
   "name": "python",
   "nbconvert_exporter": "python",
   "pygments_lexer": "ipython3",
   "version": "3.4.5"
  }
 },
 "nbformat": 4,
 "nbformat_minor": 2
}
