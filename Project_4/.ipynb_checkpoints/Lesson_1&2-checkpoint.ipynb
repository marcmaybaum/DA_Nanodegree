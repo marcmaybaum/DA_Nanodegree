{
 "cells": [
  {
   "cell_type": "markdown",
   "metadata": {},
   "source": [
    "## What is Exploratory Data Analysis?\n",
    "\n",
    "#### End of the course you should feel comfortable collecting, reviewing, learning from and uncovering patterns in data\n",
    "\n",
    "#### Data is ubiquitous - can be found anywhere, just a matter of cleaning it\n",
    "\n",
    "#### First Goal: Think of it as your intial exploration of data\n",
    "\n",
    "#### Second Goal: Assess and validate assumptions based on future inferences that could be made\n",
    "\n",
    "#### Third Goal: Understand the data before coming up with intelligent hypotheses. EDA is not a formal process of hypothesis testing and predictive modeling.\n",
    "\n",
    "## Why learn EDA?\n",
    "\n",
    "#### What's getting ubiquitous and cheap - data. What complements this? - analysis.\n",
    "\n",
    "#### At the least, EDA will improve ability to reason through data, sharpen data vizualisation & communication skills, and broaden career opportunities"
   ]
  },
  {
   "cell_type": "markdown",
   "metadata": {},
   "source": [
    "### The Growth of Television Exercise\n",
    "\n",
    "http://flowingdata.com/2009/09/23/tv-size-over-the-past-8-years/\n",
    "\n",
    "##### Always be skeptical about what story the data may tell and constantly question the data, inspect it, and consider the context of the data"
   ]
  },
  {
   "cell_type": "markdown",
   "metadata": {},
   "source": [
    "## Our Approach to this Course\n",
    "\n",
    "##### On average, people should be more skeptical when they see numbers. They should be more wiling to play around with the data themselves. - Nate Silver\n",
    "\n",
    "#### Always be curious about data. We always want to test our intuitions and develop new intuitions.\n",
    "\n",
    "#### We will be using the R programmaing language and RStudio to explore the data"
   ]
  },
  {
   "cell_type": "markdown",
   "metadata": {},
   "source": [
    "## Why R?\n",
    "\n",
    "#### Leading programming code for stats. R scripts allows ability to share and showcase code. ggplot2 is a graphics package that we will use for a lot of our visualizations\n",
    "\n"
   ]
  },
  {
   "cell_type": "markdown",
   "metadata": {},
   "source": [
    "### R Studio's Design\n",
    "\n",
    "#### Top left: Files/Where we write scripts\n",
    "#### Top right: Work space/History\n",
    "#### Bottom left: Console where we get output\n",
    "#### Bottom right: Files, packages, plots, and help\n",
    "\n",
    "#### You can build out the design of R Studio by going into Tools -> Options"
   ]
  },
  {
   "cell_type": "markdown",
   "metadata": {
    "collapsed": true
   },
   "source": [
    "# Working in Demystifying_R doc\n",
    "\n",
    "###  We've run nine commands so far:\n",
    "    # c = stands for combine, but actually creates vectors\n",
    "    # nchar = number of characters\n",
    "    # data = loads dataset into dataframe\n",
    "    # str = gives structure of dataframe\n",
    "    # dim = gives dimensions of dataframe\n",
    "    # names = gets or sets names of an object (dataframe)\n",
    "    # row.names = number of row names in dataframe\n",
    "    # head, and tail = same thing in python - first five or last five entries\n",
    "\n",
    "#### You can always use '?' before a function command to find out what it does\n",
    "\n",
    "#### To read a specific column in the dataframe, use the money character\n",
    "#### ex. mtcars$mpg"
   ]
  },
  {
   "cell_type": "markdown",
   "metadata": {},
   "source": [
    "# Working in Demystifying_R2 doc\n",
    "\n",
    "## RMD files are R Markdown Files - a simple formatting language that allows to author webpages. Markdown Quick Reference in Help gives all the background info on it.\n",
    "\n",
    "### The str() and summary() functions are helpful commands when working with a new data set.\n",
    "### The str() function gives us the variable names and their types.\n",
    "### The summary() function gives us an idea of the values a variable can take on.\n"
   ]
  },
  {
   "cell_type": "markdown",
   "metadata": {},
   "source": [
    "## Ordered factors allow values to be ranked from lowest-highest or highest-lowest"
   ]
  },
  {
   "cell_type": "markdown",
   "metadata": {},
   "source": [
    "## ordered() & factor() both have ways to order data"
   ]
  },
  {
   "cell_type": "markdown",
   "metadata": {},
   "source": [
    "## Data Munging is the ability to handle data and make unstructured data structured"
   ]
  },
  {
   "cell_type": "markdown",
   "metadata": {},
   "source": [
    "## Find data sets that you are interested in!!!\n",
    "## Good data science comes from good questions"
   ]
  },
  {
   "cell_type": "code",
   "execution_count": null,
   "metadata": {
    "collapsed": true
   },
   "outputs": [],
   "source": []
  }
 ],
 "metadata": {
  "kernelspec": {
   "display_name": "Python [conda env:py36]",
   "language": "python",
   "name": "conda-env-py36-py"
  },
  "language_info": {
   "codemirror_mode": {
    "name": "ipython",
    "version": 3
   },
   "file_extension": ".py",
   "mimetype": "text/x-python",
   "name": "python",
   "nbconvert_exporter": "python",
   "pygments_lexer": "ipython3",
   "version": "3.6.1"
  }
 },
 "nbformat": 4,
 "nbformat_minor": 2
}
