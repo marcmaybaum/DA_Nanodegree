{
 "cells": [
  {
   "cell_type": "markdown",
   "metadata": {},
   "source": [
    "### Reading and Subsetting Data in R"
   ]
  },
  {
   "cell_type": "code",
   "execution_count": 1,
   "metadata": {
    "collapsed": false
   },
   "outputs": [
    {
     "data": {
      "text/html": [
       "'/Users/marcmaybaum/Desktop/Education/Udacity/Data_Analyst_Nanodegree/Project_4/Lesson 2'"
      ],
      "text/latex": [
       "'/Users/marcmaybaum/Desktop/Education/Udacity/Data\\_Analyst\\_Nanodegree/Project\\_4/Lesson 2'"
      ],
      "text/markdown": [
       "'/Users/marcmaybaum/Desktop/Education/Udacity/Data_Analyst_Nanodegree/Project_4/Lesson 2'"
      ],
      "text/plain": [
       "[1] \"/Users/marcmaybaum/Desktop/Education/Udacity/Data_Analyst_Nanodegree/Project_4/Lesson 2\""
      ]
     },
     "metadata": {},
     "output_type": "display_data"
    }
   ],
   "source": [
    "getwd()"
   ]
  },
  {
   "cell_type": "code",
   "execution_count": 2,
   "metadata": {
    "collapsed": true
   },
   "outputs": [],
   "source": [
    "setwd('~/Downloads')"
   ]
  },
  {
   "cell_type": "code",
   "execution_count": 3,
   "metadata": {
    "collapsed": true
   },
   "outputs": [],
   "source": [
    "statesInfo <- read.csv('stateData.csv')"
   ]
  },
  {
   "cell_type": "code",
   "execution_count": 11,
   "metadata": {
    "collapsed": false
   },
   "outputs": [
    {
     "data": {
      "text/html": [
       "<table>\n",
       "<thead><tr><th scope=col>X</th><th scope=col>state.abb</th><th scope=col>state.area</th><th scope=col>state.region</th><th scope=col>population</th><th scope=col>income</th><th scope=col>illiteracy</th><th scope=col>life.exp</th><th scope=col>murder</th><th scope=col>highSchoolGrad</th><th scope=col>frost</th><th scope=col>area</th></tr></thead>\n",
       "<tbody>\n",
       "\t<tr><td>Alabama   </td><td>AL        </td><td> 51609    </td><td>2         </td><td> 3615     </td><td>3624      </td><td>2.1       </td><td>69.05     </td><td>15.1      </td><td>41.3      </td><td> 20       </td><td> 50708    </td></tr>\n",
       "\t<tr><td>Alaska    </td><td>AK        </td><td>589757    </td><td>4         </td><td>  365     </td><td>6315      </td><td>1.5       </td><td>69.31     </td><td>11.3      </td><td>66.7      </td><td>152       </td><td>566432    </td></tr>\n",
       "\t<tr><td>Arizona   </td><td>AZ        </td><td>113909    </td><td>4         </td><td> 2212     </td><td>4530      </td><td>1.8       </td><td>70.55     </td><td> 7.8      </td><td>58.1      </td><td> 15       </td><td>113417    </td></tr>\n",
       "\t<tr><td>Arkansas  </td><td>AR        </td><td> 53104    </td><td>2         </td><td> 2110     </td><td>3378      </td><td>1.9       </td><td>70.66     </td><td>10.1      </td><td>39.9      </td><td> 65       </td><td> 51945    </td></tr>\n",
       "\t<tr><td>California</td><td>CA        </td><td>158693    </td><td>4         </td><td>21198     </td><td>5114      </td><td>1.1       </td><td>71.71     </td><td>10.3      </td><td>62.6      </td><td> 20       </td><td>156361    </td></tr>\n",
       "\t<tr><td>Colorado  </td><td>CO        </td><td>104247    </td><td>4         </td><td> 2541     </td><td>4884      </td><td>0.7       </td><td>72.06     </td><td> 6.8      </td><td>63.9      </td><td>166       </td><td>103766    </td></tr>\n",
       "</tbody>\n",
       "</table>\n"
      ],
      "text/latex": [
       "\\begin{tabular}{r|llllllllllll}\n",
       " X & state.abb & state.area & state.region & population & income & illiteracy & life.exp & murder & highSchoolGrad & frost & area\\\\\n",
       "\\hline\n",
       "\t Alabama    & AL         &  51609     & 2          &  3615      & 3624       & 2.1        & 69.05      & 15.1       & 41.3       &  20        &  50708    \\\\\n",
       "\t Alaska     & AK         & 589757     & 4          &   365      & 6315       & 1.5        & 69.31      & 11.3       & 66.7       & 152        & 566432    \\\\\n",
       "\t Arizona    & AZ         & 113909     & 4          &  2212      & 4530       & 1.8        & 70.55      &  7.8       & 58.1       &  15        & 113417    \\\\\n",
       "\t Arkansas   & AR         &  53104     & 2          &  2110      & 3378       & 1.9        & 70.66      & 10.1       & 39.9       &  65        &  51945    \\\\\n",
       "\t California & CA         & 158693     & 4          & 21198      & 5114       & 1.1        & 71.71      & 10.3       & 62.6       &  20        & 156361    \\\\\n",
       "\t Colorado   & CO         & 104247     & 4          &  2541      & 4884       & 0.7        & 72.06      &  6.8       & 63.9       & 166        & 103766    \\\\\n",
       "\\end{tabular}\n"
      ],
      "text/markdown": [
       "\n",
       "X | state.abb | state.area | state.region | population | income | illiteracy | life.exp | murder | highSchoolGrad | frost | area | \n",
       "|---|---|---|---|---|---|\n",
       "| Alabama    | AL         |  51609     | 2          |  3615      | 3624       | 2.1        | 69.05      | 15.1       | 41.3       |  20        |  50708     | \n",
       "| Alaska     | AK         | 589757     | 4          |   365      | 6315       | 1.5        | 69.31      | 11.3       | 66.7       | 152        | 566432     | \n",
       "| Arizona    | AZ         | 113909     | 4          |  2212      | 4530       | 1.8        | 70.55      |  7.8       | 58.1       |  15        | 113417     | \n",
       "| Arkansas   | AR         |  53104     | 2          |  2110      | 3378       | 1.9        | 70.66      | 10.1       | 39.9       |  65        |  51945     | \n",
       "| California | CA         | 158693     | 4          | 21198      | 5114       | 1.1        | 71.71      | 10.3       | 62.6       |  20        | 156361     | \n",
       "| Colorado   | CO         | 104247     | 4          |  2541      | 4884       | 0.7        | 72.06      |  6.8       | 63.9       | 166        | 103766     | \n",
       "\n",
       "\n"
      ],
      "text/plain": [
       "  X          state.abb state.area state.region population income illiteracy\n",
       "1 Alabama    AL         51609     2             3615      3624   2.1       \n",
       "2 Alaska     AK        589757     4              365      6315   1.5       \n",
       "3 Arizona    AZ        113909     4             2212      4530   1.8       \n",
       "4 Arkansas   AR         53104     2             2110      3378   1.9       \n",
       "5 California CA        158693     4            21198      5114   1.1       \n",
       "6 Colorado   CO        104247     4             2541      4884   0.7       \n",
       "  life.exp murder highSchoolGrad frost area  \n",
       "1 69.05    15.1   41.3            20    50708\n",
       "2 69.31    11.3   66.7           152   566432\n",
       "3 70.55     7.8   58.1            15   113417\n",
       "4 70.66    10.1   39.9            65    51945\n",
       "5 71.71    10.3   62.6            20   156361\n",
       "6 72.06     6.8   63.9           166   103766"
      ]
     },
     "metadata": {},
     "output_type": "display_data"
    }
   ],
   "source": [
    "head(statesInfo)"
   ]
  },
  {
   "cell_type": "markdown",
   "metadata": {},
   "source": [
    "### Creating a dataframe of only part of the data from above statsData.csv"
   ]
  },
  {
   "cell_type": "code",
   "execution_count": 7,
   "metadata": {
    "collapsed": true
   },
   "outputs": [],
   "source": [
    "stateSubset <- subset(statesInfo, state.region == 1)"
   ]
  },
  {
   "cell_type": "code",
   "execution_count": 8,
   "metadata": {
    "collapsed": false
   },
   "outputs": [
    {
     "data": {
      "text/html": [
       "<table>\n",
       "<thead><tr><th></th><th scope=col>X</th><th scope=col>state.abb</th><th scope=col>state.area</th><th scope=col>state.region</th><th scope=col>population</th><th scope=col>income</th><th scope=col>illiteracy</th><th scope=col>life.exp</th><th scope=col>murder</th><th scope=col>highSchoolGrad</th><th scope=col>frost</th><th scope=col>area</th></tr></thead>\n",
       "<tbody>\n",
       "\t<tr><th scope=row>7</th><td>Connecticut  </td><td>CT           </td><td> 5009        </td><td>1            </td><td> 3100        </td><td>5348         </td><td>1.1          </td><td>72.48        </td><td> 3.1         </td><td>56.0         </td><td>139          </td><td> 4862        </td></tr>\n",
       "\t<tr><th scope=row>19</th><td>Maine        </td><td>ME           </td><td>33215        </td><td>1            </td><td> 1058        </td><td>3694         </td><td>0.7          </td><td>70.39        </td><td> 2.7         </td><td>54.7         </td><td>161          </td><td>30920        </td></tr>\n",
       "\t<tr><th scope=row>21</th><td>Massachusetts</td><td>MA           </td><td> 8257        </td><td>1            </td><td> 5814        </td><td>4755         </td><td>1.1          </td><td>71.83        </td><td> 3.3         </td><td>58.5         </td><td>103          </td><td> 7826        </td></tr>\n",
       "\t<tr><th scope=row>29</th><td>New Hampshire</td><td>NH           </td><td> 9304        </td><td>1            </td><td>  812        </td><td>4281         </td><td>0.7          </td><td>71.23        </td><td> 3.3         </td><td>57.6         </td><td>174          </td><td> 9027        </td></tr>\n",
       "\t<tr><th scope=row>30</th><td>New Jersey   </td><td>NJ           </td><td> 7836        </td><td>1            </td><td> 7333        </td><td>5237         </td><td>1.1          </td><td>70.93        </td><td> 5.2         </td><td>52.5         </td><td>115          </td><td> 7521        </td></tr>\n",
       "\t<tr><th scope=row>32</th><td>New York     </td><td>NY           </td><td>49576        </td><td>1            </td><td>18076        </td><td>4903         </td><td>1.4          </td><td>70.55        </td><td>10.9         </td><td>52.7         </td><td> 82          </td><td>47831        </td></tr>\n",
       "</tbody>\n",
       "</table>\n"
      ],
      "text/latex": [
       "\\begin{tabular}{r|llllllllllll}\n",
       "  & X & state.abb & state.area & state.region & population & income & illiteracy & life.exp & murder & highSchoolGrad & frost & area\\\\\n",
       "\\hline\n",
       "\t7 & Connecticut   & CT            &  5009         & 1             &  3100         & 5348          & 1.1           & 72.48         &  3.1          & 56.0          & 139           &  4862        \\\\\n",
       "\t19 & Maine         & ME            & 33215         & 1             &  1058         & 3694          & 0.7           & 70.39         &  2.7          & 54.7          & 161           & 30920        \\\\\n",
       "\t21 & Massachusetts & MA            &  8257         & 1             &  5814         & 4755          & 1.1           & 71.83         &  3.3          & 58.5          & 103           &  7826        \\\\\n",
       "\t29 & New Hampshire & NH            &  9304         & 1             &   812         & 4281          & 0.7           & 71.23         &  3.3          & 57.6          & 174           &  9027        \\\\\n",
       "\t30 & New Jersey    & NJ            &  7836         & 1             &  7333         & 5237          & 1.1           & 70.93         &  5.2          & 52.5          & 115           &  7521        \\\\\n",
       "\t32 & New York      & NY            & 49576         & 1             & 18076         & 4903          & 1.4           & 70.55         & 10.9          & 52.7          &  82           & 47831        \\\\\n",
       "\\end{tabular}\n"
      ],
      "text/markdown": [
       "\n",
       "| <!--/--> | X | state.abb | state.area | state.region | population | income | illiteracy | life.exp | murder | highSchoolGrad | frost | area | \n",
       "|---|---|---|---|---|---|\n",
       "| 7 | Connecticut   | CT            |  5009         | 1             |  3100         | 5348          | 1.1           | 72.48         |  3.1          | 56.0          | 139           |  4862         | \n",
       "| 19 | Maine         | ME            | 33215         | 1             |  1058         | 3694          | 0.7           | 70.39         |  2.7          | 54.7          | 161           | 30920         | \n",
       "| 21 | Massachusetts | MA            |  8257         | 1             |  5814         | 4755          | 1.1           | 71.83         |  3.3          | 58.5          | 103           |  7826         | \n",
       "| 29 | New Hampshire | NH            |  9304         | 1             |   812         | 4281          | 0.7           | 71.23         |  3.3          | 57.6          | 174           |  9027         | \n",
       "| 30 | New Jersey    | NJ            |  7836         | 1             |  7333         | 5237          | 1.1           | 70.93         |  5.2          | 52.5          | 115           |  7521         | \n",
       "| 32 | New York      | NY            | 49576         | 1             | 18076         | 4903          | 1.4           | 70.55         | 10.9          | 52.7          |  82           | 47831         | \n",
       "\n",
       "\n"
      ],
      "text/plain": [
       "   X             state.abb state.area state.region population income illiteracy\n",
       "7  Connecticut   CT         5009      1             3100      5348   1.1       \n",
       "19 Maine         ME        33215      1             1058      3694   0.7       \n",
       "21 Massachusetts MA         8257      1             5814      4755   1.1       \n",
       "29 New Hampshire NH         9304      1              812      4281   0.7       \n",
       "30 New Jersey    NJ         7836      1             7333      5237   1.1       \n",
       "32 New York      NY        49576      1            18076      4903   1.4       \n",
       "   life.exp murder highSchoolGrad frost area \n",
       "7  72.48     3.1   56.0           139    4862\n",
       "19 70.39     2.7   54.7           161   30920\n",
       "21 71.83     3.3   58.5           103    7826\n",
       "29 71.23     3.3   57.6           174    9027\n",
       "30 70.93     5.2   52.5           115    7521\n",
       "32 70.55    10.9   52.7            82   47831"
      ]
     },
     "metadata": {},
     "output_type": "display_data"
    }
   ],
   "source": [
    "head(stateSubset)"
   ]
  },
  {
   "cell_type": "markdown",
   "metadata": {},
   "source": [
    "#### Below stateSubsetBracket is another ways of writing the code:\n",
    "stateSubset <- subset(statesInfo, state.region == 1)"
   ]
  },
  {
   "cell_type": "code",
   "execution_count": 9,
   "metadata": {
    "collapsed": true
   },
   "outputs": [],
   "source": [
    "stateSubsetBracket <- statesInfo[statesInfo$state.region == 1, ]"
   ]
  },
  {
   "cell_type": "code",
   "execution_count": 10,
   "metadata": {
    "collapsed": false
   },
   "outputs": [
    {
     "data": {
      "text/html": [
       "<table>\n",
       "<thead><tr><th></th><th scope=col>X</th><th scope=col>state.abb</th><th scope=col>state.area</th><th scope=col>state.region</th><th scope=col>population</th><th scope=col>income</th><th scope=col>illiteracy</th><th scope=col>life.exp</th><th scope=col>murder</th><th scope=col>highSchoolGrad</th><th scope=col>frost</th><th scope=col>area</th></tr></thead>\n",
       "<tbody>\n",
       "\t<tr><th scope=row>7</th><td>Connecticut  </td><td>CT           </td><td> 5009        </td><td>1            </td><td> 3100        </td><td>5348         </td><td>1.1          </td><td>72.48        </td><td> 3.1         </td><td>56.0         </td><td>139          </td><td> 4862        </td></tr>\n",
       "\t<tr><th scope=row>19</th><td>Maine        </td><td>ME           </td><td>33215        </td><td>1            </td><td> 1058        </td><td>3694         </td><td>0.7          </td><td>70.39        </td><td> 2.7         </td><td>54.7         </td><td>161          </td><td>30920        </td></tr>\n",
       "\t<tr><th scope=row>21</th><td>Massachusetts</td><td>MA           </td><td> 8257        </td><td>1            </td><td> 5814        </td><td>4755         </td><td>1.1          </td><td>71.83        </td><td> 3.3         </td><td>58.5         </td><td>103          </td><td> 7826        </td></tr>\n",
       "\t<tr><th scope=row>29</th><td>New Hampshire</td><td>NH           </td><td> 9304        </td><td>1            </td><td>  812        </td><td>4281         </td><td>0.7          </td><td>71.23        </td><td> 3.3         </td><td>57.6         </td><td>174          </td><td> 9027        </td></tr>\n",
       "\t<tr><th scope=row>30</th><td>New Jersey   </td><td>NJ           </td><td> 7836        </td><td>1            </td><td> 7333        </td><td>5237         </td><td>1.1          </td><td>70.93        </td><td> 5.2         </td><td>52.5         </td><td>115          </td><td> 7521        </td></tr>\n",
       "\t<tr><th scope=row>32</th><td>New York     </td><td>NY           </td><td>49576        </td><td>1            </td><td>18076        </td><td>4903         </td><td>1.4          </td><td>70.55        </td><td>10.9         </td><td>52.7         </td><td> 82          </td><td>47831        </td></tr>\n",
       "</tbody>\n",
       "</table>\n"
      ],
      "text/latex": [
       "\\begin{tabular}{r|llllllllllll}\n",
       "  & X & state.abb & state.area & state.region & population & income & illiteracy & life.exp & murder & highSchoolGrad & frost & area\\\\\n",
       "\\hline\n",
       "\t7 & Connecticut   & CT            &  5009         & 1             &  3100         & 5348          & 1.1           & 72.48         &  3.1          & 56.0          & 139           &  4862        \\\\\n",
       "\t19 & Maine         & ME            & 33215         & 1             &  1058         & 3694          & 0.7           & 70.39         &  2.7          & 54.7          & 161           & 30920        \\\\\n",
       "\t21 & Massachusetts & MA            &  8257         & 1             &  5814         & 4755          & 1.1           & 71.83         &  3.3          & 58.5          & 103           &  7826        \\\\\n",
       "\t29 & New Hampshire & NH            &  9304         & 1             &   812         & 4281          & 0.7           & 71.23         &  3.3          & 57.6          & 174           &  9027        \\\\\n",
       "\t30 & New Jersey    & NJ            &  7836         & 1             &  7333         & 5237          & 1.1           & 70.93         &  5.2          & 52.5          & 115           &  7521        \\\\\n",
       "\t32 & New York      & NY            & 49576         & 1             & 18076         & 4903          & 1.4           & 70.55         & 10.9          & 52.7          &  82           & 47831        \\\\\n",
       "\\end{tabular}\n"
      ],
      "text/markdown": [
       "\n",
       "| <!--/--> | X | state.abb | state.area | state.region | population | income | illiteracy | life.exp | murder | highSchoolGrad | frost | area | \n",
       "|---|---|---|---|---|---|\n",
       "| 7 | Connecticut   | CT            |  5009         | 1             |  3100         | 5348          | 1.1           | 72.48         |  3.1          | 56.0          | 139           |  4862         | \n",
       "| 19 | Maine         | ME            | 33215         | 1             |  1058         | 3694          | 0.7           | 70.39         |  2.7          | 54.7          | 161           | 30920         | \n",
       "| 21 | Massachusetts | MA            |  8257         | 1             |  5814         | 4755          | 1.1           | 71.83         |  3.3          | 58.5          | 103           |  7826         | \n",
       "| 29 | New Hampshire | NH            |  9304         | 1             |   812         | 4281          | 0.7           | 71.23         |  3.3          | 57.6          | 174           |  9027         | \n",
       "| 30 | New Jersey    | NJ            |  7836         | 1             |  7333         | 5237          | 1.1           | 70.93         |  5.2          | 52.5          | 115           |  7521         | \n",
       "| 32 | New York      | NY            | 49576         | 1             | 18076         | 4903          | 1.4           | 70.55         | 10.9          | 52.7          |  82           | 47831         | \n",
       "\n",
       "\n"
      ],
      "text/plain": [
       "   X             state.abb state.area state.region population income illiteracy\n",
       "7  Connecticut   CT         5009      1             3100      5348   1.1       \n",
       "19 Maine         ME        33215      1             1058      3694   0.7       \n",
       "21 Massachusetts MA         8257      1             5814      4755   1.1       \n",
       "29 New Hampshire NH         9304      1              812      4281   0.7       \n",
       "30 New Jersey    NJ         7836      1             7333      5237   1.1       \n",
       "32 New York      NY        49576      1            18076      4903   1.4       \n",
       "   life.exp murder highSchoolGrad frost area \n",
       "7  72.48     3.1   56.0           139    4862\n",
       "19 70.39     2.7   54.7           161   30920\n",
       "21 71.83     3.3   58.5           103    7826\n",
       "29 71.23     3.3   57.6           174    9027\n",
       "30 70.93     5.2   52.5           115    7521\n",
       "32 70.55    10.9   52.7            82   47831"
      ]
     },
     "metadata": {},
     "output_type": "display_data"
    }
   ],
   "source": [
    "head(stateSubsetBracket)"
   ]
  },
  {
   "cell_type": "markdown",
   "metadata": {},
   "source": [
    "### What's an RMD File?\n",
    "\n",
    "An R script can only have R code and commments\n",
    "\n",
    "RMD file allows for so much more. Like Jupyter notebook, formatting of files and walking through the script for others is capable in RMD files.\n",
    "\n",
    "Knit HTML allows to easily share RMD files."
   ]
  }
 ],
 "metadata": {
  "kernelspec": {
   "display_name": "R [conda env:py34]",
   "language": "R",
   "name": "conda-env-py34-r"
  },
  "language_info": {
   "codemirror_mode": "r",
   "file_extension": ".r",
   "mimetype": "text/x-r-source",
   "name": "R",
   "pygments_lexer": "r",
   "version": "3.4.1"
  }
 },
 "nbformat": 4,
 "nbformat_minor": 2
}
